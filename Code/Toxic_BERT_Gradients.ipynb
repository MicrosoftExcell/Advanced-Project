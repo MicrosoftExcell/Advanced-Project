{
 "cells": [
  {
   "cell_type": "markdown",
   "metadata": {
    "id": "7ak_Ca3w_rNy"
   },
   "source": [
    "<h3> BERT classifier v6 trained on balanced data for male/female in toxic class, label = gender, tested gender predictions for toxic class, visualise words with higher gradients relied on for gender classification, adjusted how test dataset created</h3>\r\n",
    "<p>Using code from: https://mccormickml.com/2019/07/22/BERT-fine-tuning/, \r\n",
    "https://captum.ai/tutorials/IMDB_TorchText_Interpret</p>"
   ]
  },
  {
   "cell_type": "code",
   "execution_count": 64,
   "metadata": {
    "colab": {
     "base_uri": "https://localhost:8080/"
    },
    "id": "13WXuSwGMcRD",
    "outputId": "c7a79e35-2346-4440-b70c-6be9a6554468"
   },
   "outputs": [
    {
     "name": "stdout",
     "output_type": "stream",
     "text": [
      "Requirement already satisfied: captum in /usr/local/lib/python3.6/dist-packages (0.3.1)\n",
      "Requirement already satisfied: numpy in /usr/local/lib/python3.6/dist-packages (from captum) (1.19.5)\n",
      "Requirement already satisfied: torch>=1.2 in /usr/local/lib/python3.6/dist-packages (from captum) (1.7.0+cu101)\n",
      "Requirement already satisfied: matplotlib in /usr/local/lib/python3.6/dist-packages (from captum) (3.2.2)\n",
      "Requirement already satisfied: dataclasses in /usr/local/lib/python3.6/dist-packages (from torch>=1.2->captum) (0.8)\n",
      "Requirement already satisfied: future in /usr/local/lib/python3.6/dist-packages (from torch>=1.2->captum) (0.16.0)\n",
      "Requirement already satisfied: typing-extensions in /usr/local/lib/python3.6/dist-packages (from torch>=1.2->captum) (3.7.4.3)\n",
      "Requirement already satisfied: cycler>=0.10 in /usr/local/lib/python3.6/dist-packages (from matplotlib->captum) (0.10.0)\n",
      "Requirement already satisfied: kiwisolver>=1.0.1 in /usr/local/lib/python3.6/dist-packages (from matplotlib->captum) (1.3.1)\n",
      "Requirement already satisfied: python-dateutil>=2.1 in /usr/local/lib/python3.6/dist-packages (from matplotlib->captum) (2.8.1)\n",
      "Requirement already satisfied: pyparsing!=2.0.4,!=2.1.2,!=2.1.6,>=2.0.1 in /usr/local/lib/python3.6/dist-packages (from matplotlib->captum) (2.4.7)\n",
      "Requirement already satisfied: six in /usr/local/lib/python3.6/dist-packages (from cycler>=0.10->matplotlib->captum) (1.15.0)\n"
     ]
    }
   ],
   "source": [
    "!pip install captum"
   ]
  },
  {
   "cell_type": "code",
   "execution_count": 65,
   "metadata": {
    "colab": {
     "base_uri": "https://localhost:8080/"
    },
    "id": "RBWkIenb_xH-",
    "outputId": "c53b1b50-b315-4165-b194-b973bd4c016d"
   },
   "outputs": [
    {
     "name": "stdout",
     "output_type": "stream",
     "text": [
      "Drive already mounted at /content/drive; to attempt to forcibly remount, call drive.mount(\"/content/drive\", force_remount=True).\n"
     ]
    }
   ],
   "source": [
    "# import libraries\r\n",
    "import pandas as pd\r\n",
    "import numpy as np\r\n",
    "#!conda install -y tensorflow\r\n",
    "#!conda install -y pytorch torchvision -c pytorch\r\n",
    "#!pip install transformers\r\n",
    "import tensorflow as tf\r\n",
    "import torch\r\n",
    "import math\r\n",
    "\r\n",
    "import spacy\r\n",
    "\r\n",
    "import torchtext\r\n",
    "import torchtext.data\r\n",
    "import torch.nn as nn\r\n",
    "import torch.nn.functional as F\r\n",
    "\r\n",
    "from torchtext.vocab import Vocab\r\n",
    "\r\n",
    "from captum.attr import LayerIntegratedGradients, TokenReferenceBase, visualization\r\n",
    "\r\n",
    "nlp = spacy.load('en')\r\n",
    "\r\n",
    "from google.colab import drive\r\n",
    "drive.mount('/content/drive')"
   ]
  },
  {
   "cell_type": "code",
   "execution_count": 66,
   "metadata": {
    "colab": {
     "base_uri": "https://localhost:8080/",
     "height": 246
    },
    "id": "NrVW-FsUABeB",
    "outputId": "c1e37087-2824-406a-b650-e19a78c01f6a"
   },
   "outputs": [
    {
     "name": "stdout",
     "output_type": "stream",
     "text": [
      "2000\n",
      "1600\n",
      "6400\n"
     ]
    },
    {
     "data": {
      "text/html": [
       "<div>\n",
       "<style scoped>\n",
       "    .dataframe tbody tr th:only-of-type {\n",
       "        vertical-align: middle;\n",
       "    }\n",
       "\n",
       "    .dataframe tbody tr th {\n",
       "        vertical-align: top;\n",
       "    }\n",
       "\n",
       "    .dataframe thead th {\n",
       "        text-align: right;\n",
       "    }\n",
       "</style>\n",
       "<table border=\"1\" class=\"dataframe\">\n",
       "  <thead>\n",
       "    <tr style=\"text-align: right;\">\n",
       "      <th></th>\n",
       "      <th>rev_id</th>\n",
       "      <th>comment</th>\n",
       "      <th>year</th>\n",
       "      <th>logged_in</th>\n",
       "      <th>ns</th>\n",
       "      <th>sample</th>\n",
       "      <th>split</th>\n",
       "      <th>worker_id</th>\n",
       "      <th>toxicity</th>\n",
       "      <th>toxicity_score</th>\n",
       "      <th>gender</th>\n",
       "      <th>english_first_language</th>\n",
       "      <th>age_group</th>\n",
       "      <th>education</th>\n",
       "      <th>female_binary</th>\n",
       "      <th>male_binary</th>\n",
       "    </tr>\n",
       "  </thead>\n",
       "  <tbody>\n",
       "    <tr>\n",
       "      <th>752623</th>\n",
       "      <td>2.18e+08</td>\n",
       "      <td>`  == Who the **** keeps taking my information...</td>\n",
       "      <td>2008</td>\n",
       "      <td>True</td>\n",
       "      <td>article</td>\n",
       "      <td>blocked</td>\n",
       "      <td>train</td>\n",
       "      <td>1988</td>\n",
       "      <td>1</td>\n",
       "      <td>-1.0</td>\n",
       "      <td>female</td>\n",
       "      <td>0.0</td>\n",
       "      <td>18-30</td>\n",
       "      <td>masters</td>\n",
       "      <td>1</td>\n",
       "      <td>0</td>\n",
       "    </tr>\n",
       "    <tr>\n",
       "      <th>66862</th>\n",
       "      <td>2.17e+08</td>\n",
       "      <td>:::Well done, u pussbag! Have a cookie! I be...</td>\n",
       "      <td>2008</td>\n",
       "      <td>False</td>\n",
       "      <td>article</td>\n",
       "      <td>blocked</td>\n",
       "      <td>dev</td>\n",
       "      <td>2749</td>\n",
       "      <td>1</td>\n",
       "      <td>-1.0</td>\n",
       "      <td>female</td>\n",
       "      <td>0.0</td>\n",
       "      <td>18-30</td>\n",
       "      <td>masters</td>\n",
       "      <td>1</td>\n",
       "      <td>0</td>\n",
       "    </tr>\n",
       "    <tr>\n",
       "      <th>1576055</th>\n",
       "      <td>1.24e+08</td>\n",
       "      <td>I love him and i wish he had killed more</td>\n",
       "      <td>2007</td>\n",
       "      <td>False</td>\n",
       "      <td>article</td>\n",
       "      <td>blocked</td>\n",
       "      <td>train</td>\n",
       "      <td>3790</td>\n",
       "      <td>1</td>\n",
       "      <td>-1.0</td>\n",
       "      <td>female</td>\n",
       "      <td>0.0</td>\n",
       "      <td>45-60</td>\n",
       "      <td>masters</td>\n",
       "      <td>1</td>\n",
       "      <td>0</td>\n",
       "    </tr>\n",
       "    <tr>\n",
       "      <th>237601</th>\n",
       "      <td>6.44e+08</td>\n",
       "      <td>== Don't like people calling you out on your...</td>\n",
       "      <td>2015</td>\n",
       "      <td>False</td>\n",
       "      <td>article</td>\n",
       "      <td>blocked</td>\n",
       "      <td>dev</td>\n",
       "      <td>319</td>\n",
       "      <td>1</td>\n",
       "      <td>-1.0</td>\n",
       "      <td>female</td>\n",
       "      <td>0.0</td>\n",
       "      <td>18-30</td>\n",
       "      <td>professional</td>\n",
       "      <td>1</td>\n",
       "      <td>0</td>\n",
       "    </tr>\n",
       "    <tr>\n",
       "      <th>280302</th>\n",
       "      <td>1.95e+08</td>\n",
       "      <td>warning: stop vandalism talk pages, you are a ...</td>\n",
       "      <td>2008</td>\n",
       "      <td>False</td>\n",
       "      <td>user</td>\n",
       "      <td>blocked</td>\n",
       "      <td>dev</td>\n",
       "      <td>286</td>\n",
       "      <td>1</td>\n",
       "      <td>-1.0</td>\n",
       "      <td>female</td>\n",
       "      <td>1.0</td>\n",
       "      <td>30-45</td>\n",
       "      <td>bachelors</td>\n",
       "      <td>1</td>\n",
       "      <td>0</td>\n",
       "    </tr>\n",
       "  </tbody>\n",
       "</table>\n",
       "</div>"
      ],
      "text/plain": [
       "           rev_id  ... male_binary\n",
       "752623   2.18e+08  ...           0\n",
       "66862    2.17e+08  ...           0\n",
       "1576055  1.24e+08  ...           0\n",
       "237601   6.44e+08  ...           0\n",
       "280302   1.95e+08  ...           0\n",
       "\n",
       "[5 rows x 16 columns]"
      ]
     },
     "metadata": {
      "tags": []
     },
     "output_type": "display_data"
    }
   ],
   "source": [
    "# read files and create dataframe\r\n",
    "toxicity_comments = pd.read_csv('/content/drive/MyDrive/Colab Notebooks/toxicity_annotated_comments.tsv', sep = '\\t', index_col = 0)\r\n",
    "toxicity_annotations = pd.read_csv('/content/drive/MyDrive/Colab Notebooks/toxicity_annotations.tsv',  sep = '\\t')\r\n",
    "toxicity_demographics = pd.read_csv('/content/drive/MyDrive/Colab Notebooks/toxicity_worker_demographics.tsv', sep = '\\t')\r\n",
    "\r\n",
    "toxicity = toxicity_comments.merge(toxicity_annotations, how ='outer', on=\"rev_id\")\r\n",
    "toxicity = toxicity.merge(toxicity_demographics, how ='outer', on=\"worker_id\").sort_values(by=['rev_id','worker_id'])\r\n",
    "\r\n",
    "# remove newline and tab tokens\r\n",
    "toxicity['comment'] = toxicity['comment'].apply(lambda x: x.replace(\"NEWLINE_TOKEN\", \" \"))\r\n",
    "toxicity['comment'] = toxicity['comment'].apply(lambda x: x.replace(\"TAB_TOKEN\", \" \"))\r\n",
    "\r\n",
    "# add binary gender columns\r\n",
    "toxicity = toxicity[toxicity['gender']!='other']\r\n",
    "toxicity = pd.concat([toxicity, pd.get_dummies(toxicity.gender).rename(columns = \"{}_binary\".format)], axis = 1)\r\n",
    "\r\n",
    "# limit size of dataset for testing purposes\r\n",
    "very_toxic = toxicity[toxicity.toxicity_score == -2.0]\r\n",
    "toxic = toxicity[toxicity.toxicity_score == -1.0]\r\n",
    "neutral = toxicity[toxicity.toxicity_score == 0.0]\r\n",
    "nontoxic = toxicity[toxicity.toxicity_score == 1.0]\r\n",
    "healthy = toxicity[toxicity.toxicity_score == 2.0]\r\n",
    "\r\n",
    "female_toxic = toxic[toxic.female_binary == 1]\r\n",
    "male_toxic = toxic[toxic.male_binary == 1]\r\n",
    "female_very_toxic = very_toxic[very_toxic.female_binary == 1]\r\n",
    "male_very_toxic = very_toxic[very_toxic.male_binary == 1]\r\n",
    "\r\n",
    "#size = min(female_toxic.shape[0],male_toxic.shape[0],female_very_toxic.shape[0],male_very_toxic.shape[0])\r\n",
    "size = 2000\r\n",
    "print(size)\r\n",
    "\r\n",
    "#split into train and test sets\r\n",
    "test_size = math.floor(size*0.2)\r\n",
    "train_size = math.ceil(size*0.8)\r\n",
    "\r\n",
    "#create test dataset and drop from dataframes so not also chosen for training\r\n",
    "female_toxic_test = female_toxic.sample(n=test_size)\r\n",
    "female_toxic = female_toxic.drop(female_toxic_test.index)\r\n",
    "male_toxic_test = male_toxic.sample(n=test_size)\r\n",
    "male_toxic = male_toxic.drop(male_toxic_test.index)\r\n",
    "female_vtoxic_test = female_very_toxic.sample(n=test_size)\r\n",
    "female_very_toxic = female_very_toxic.drop(female_vtoxic_test.index)\r\n",
    "male_vtoxic_test = male_very_toxic.sample(n=test_size)\r\n",
    "male_very_toxic = male_very_toxic.drop(male_vtoxic_test.index)\r\n",
    "test_data = pd.concat([female_toxic_test, male_toxic_test,female_vtoxic_test, male_vtoxic_test])\r\n",
    "test_data = test_data.sample(frac=1)\r\n",
    "print(test_data.shape[0])\r\n",
    "\r\n",
    "\r\n",
    "toxic_data = pd.concat([female_toxic.sample(train_size), male_toxic.sample(train_size),female_very_toxic.sample(train_size), male_very_toxic.sample(train_size)])\r\n",
    "print(toxic_data.shape[0])\r\n",
    "\r\n",
    "display (toxic_data.head(5))"
   ]
  },
  {
   "cell_type": "code",
   "execution_count": 67,
   "metadata": {
    "colab": {
     "base_uri": "https://localhost:8080/"
    },
    "id": "HM4vJigyDP3j",
    "outputId": "edd44376-206b-4880-fe1c-585ab6dde4df"
   },
   "outputs": [
    {
     "name": "stdout",
     "output_type": "stream",
     "text": [
      "There are 1 GPU(s) available.\n",
      "We will use the GPU: Tesla K80\n"
     ]
    }
   ],
   "source": [
    "# try to use gpu\r\n",
    "if torch.cuda.is_available():      \r\n",
    "    device = torch.device(\"cuda\")\r\n",
    "    print('There are %d GPU(s) available.' % torch.cuda.device_count())\r\n",
    "    print('We will use the GPU:', torch.cuda.get_device_name(0))\r\n",
    "\r\n",
    "else:\r\n",
    "    print('No GPU available, using the CPU instead.')\r\n",
    "    device = torch.device(\"cpu\")"
   ]
  },
  {
   "cell_type": "code",
   "execution_count": 68,
   "metadata": {
    "id": "O5Q5ntvhDWxN"
   },
   "outputs": [],
   "source": [
    "# extract relevant information\r\n",
    "comments = toxic_data.comment.values\r\n",
    "labels = toxic_data.female_binary.values"
   ]
  },
  {
   "cell_type": "code",
   "execution_count": 69,
   "metadata": {
    "colab": {
     "base_uri": "https://localhost:8080/"
    },
    "id": "UhlZR6pXD1Jl",
    "outputId": "9ca15c06-5767-4f70-8ddd-ec69479fc1aa"
   },
   "outputs": [
    {
     "name": "stdout",
     "output_type": "stream",
     "text": [
      "Requirement already satisfied: transformers==3.5.1 in /usr/local/lib/python3.6/dist-packages (3.5.1)\n",
      "Requirement already satisfied: sentencepiece==0.1.91 in /usr/local/lib/python3.6/dist-packages (from transformers==3.5.1) (0.1.91)\n",
      "Requirement already satisfied: dataclasses; python_version < \"3.7\" in /usr/local/lib/python3.6/dist-packages (from transformers==3.5.1) (0.8)\n",
      "Requirement already satisfied: filelock in /usr/local/lib/python3.6/dist-packages (from transformers==3.5.1) (3.0.12)\n",
      "Requirement already satisfied: requests in /usr/local/lib/python3.6/dist-packages (from transformers==3.5.1) (2.23.0)\n",
      "Requirement already satisfied: protobuf in /usr/local/lib/python3.6/dist-packages (from transformers==3.5.1) (3.12.4)\n",
      "Requirement already satisfied: tqdm>=4.27 in /usr/local/lib/python3.6/dist-packages (from transformers==3.5.1) (4.41.1)\n",
      "Requirement already satisfied: packaging in /usr/local/lib/python3.6/dist-packages (from transformers==3.5.1) (20.8)\n",
      "Requirement already satisfied: regex!=2019.12.17 in /usr/local/lib/python3.6/dist-packages (from transformers==3.5.1) (2019.12.20)\n",
      "Requirement already satisfied: tokenizers==0.9.3 in /usr/local/lib/python3.6/dist-packages (from transformers==3.5.1) (0.9.3)\n",
      "Requirement already satisfied: numpy in /usr/local/lib/python3.6/dist-packages (from transformers==3.5.1) (1.19.5)\n",
      "Requirement already satisfied: sacremoses in /usr/local/lib/python3.6/dist-packages (from transformers==3.5.1) (0.0.43)\n",
      "Requirement already satisfied: idna<3,>=2.5 in /usr/local/lib/python3.6/dist-packages (from requests->transformers==3.5.1) (2.10)\n",
      "Requirement already satisfied: certifi>=2017.4.17 in /usr/local/lib/python3.6/dist-packages (from requests->transformers==3.5.1) (2020.12.5)\n",
      "Requirement already satisfied: urllib3!=1.25.0,!=1.25.1,<1.26,>=1.21.1 in /usr/local/lib/python3.6/dist-packages (from requests->transformers==3.5.1) (1.24.3)\n",
      "Requirement already satisfied: chardet<4,>=3.0.2 in /usr/local/lib/python3.6/dist-packages (from requests->transformers==3.5.1) (3.0.4)\n",
      "Requirement already satisfied: six>=1.9 in /usr/local/lib/python3.6/dist-packages (from protobuf->transformers==3.5.1) (1.15.0)\n",
      "Requirement already satisfied: setuptools in /usr/local/lib/python3.6/dist-packages (from protobuf->transformers==3.5.1) (51.3.3)\n",
      "Requirement already satisfied: pyparsing>=2.0.2 in /usr/local/lib/python3.6/dist-packages (from packaging->transformers==3.5.1) (2.4.7)\n",
      "Requirement already satisfied: joblib in /usr/local/lib/python3.6/dist-packages (from sacremoses->transformers==3.5.1) (1.0.0)\n",
      "Requirement already satisfied: click in /usr/local/lib/python3.6/dist-packages (from sacremoses->transformers==3.5.1) (7.1.2)\n",
      "Loading BERT tokenizer...\n"
     ]
    }
   ],
   "source": [
    "! pip install transformers==3.5.1\r\n",
    "from transformers import BertTokenizer\r\n",
    "\r\n",
    "# Load the BERT tokenizer.\r\n",
    "print('Loading BERT tokenizer...')\r\n",
    "tokenizer = BertTokenizer.from_pretrained('bert-base-uncased', do_lower_case=True)"
   ]
  },
  {
   "cell_type": "code",
   "execution_count": 70,
   "metadata": {
    "colab": {
     "base_uri": "https://localhost:8080/"
    },
    "id": "f3gKFb5wD7eS",
    "outputId": "3d6582cd-3969-4b8e-ff0b-5fc1cc5e3518"
   },
   "outputs": [
    {
     "name": "stderr",
     "output_type": "stream",
     "text": [
      "Truncation was not explicitly activated but `max_length` is provided a specific value, please use `truncation=True` to explicitly truncate examples to max length. Defaulting to 'longest_first' truncation strategy. If you encode pairs of sequences (GLUE-style) with the tokenizer you can select this strategy more precisely by providing a specific strategy to `truncation`.\n",
      "/usr/local/lib/python3.6/dist-packages/transformers/tokenization_utils_base.py:2022: FutureWarning:\n",
      "\n",
      "The `pad_to_max_length` argument is deprecated and will be removed in a future version, use `padding=True` or `padding='longest'` to pad to the longest sequence in the batch, or use `padding='max_length'` to pad to a max length. In this case, you can give a specific length with `max_length` (e.g. `max_length=45`) or leave max_length to None to pad to the maximal input size of the model (e.g. 512 for Bert).\n",
      "\n"
     ]
    }
   ],
   "source": [
    "# Tokenize all of the sentences and map the tokens to their word IDs.\r\n",
    "input_ids = []\r\n",
    "attention_masks = []\r\n",
    "\r\n",
    "# For every sentence...\r\n",
    "for cmt in comments:\r\n",
    "    # `encode_plus` will:\r\n",
    "    #   (1) Tokenize the sentence.\r\n",
    "    #   (2) Prepend the `[CLS]` token to the start.\r\n",
    "    #   (3) Append the `[SEP]` token to the end.\r\n",
    "    #   (4) Map tokens to their IDs.\r\n",
    "    #   (5) Pad or truncate the sentence to `max_length`\r\n",
    "    #   (6) Create attention masks for [PAD] tokens.\r\n",
    "    encoded_dict = tokenizer.encode_plus(\r\n",
    "                        cmt,                      # Sentence to encode.\r\n",
    "                        add_special_tokens = True, # Add '[CLS]' and '[SEP]'\r\n",
    "                        max_length = 250,           # Pad & truncate all sentences.\r\n",
    "                        pad_to_max_length = True,\r\n",
    "                        return_attention_mask = True,   # Construct attn. masks.\r\n",
    "                        return_tensors = 'pt',     # Return pytorch tensors.\r\n",
    "                   )\r\n",
    "    \r\n",
    "    # Add the encoded sentence to the list.    \r\n",
    "    input_ids.append(encoded_dict['input_ids'])\r\n",
    "    \r\n",
    "    # And its attention mask (simply differentiates padding from non-padding).\r\n",
    "    attention_masks.append(encoded_dict['attention_mask'])\r\n",
    "\r\n",
    "# Convert the lists into tensors.\r\n",
    "input_ids = torch.cat(input_ids, dim=0)\r\n",
    "attention_masks = torch.cat(attention_masks, dim=0)\r\n",
    "labels = torch.tensor(labels)\r\n",
    "\r\n",
    "# # Print sentence 0, now as a list of IDs.\r\n",
    "# print('Original: ', comments[0],scores[0])\r\n",
    "# print('Token IDs:', input_ids[0])"
   ]
  },
  {
   "cell_type": "code",
   "execution_count": 71,
   "metadata": {
    "colab": {
     "base_uri": "https://localhost:8080/"
    },
    "id": "gaaSOCAIEZq-",
    "outputId": "6e9be17f-31e4-4978-91eb-f092e3e706e7"
   },
   "outputs": [
    {
     "name": "stdout",
     "output_type": "stream",
     "text": [
      "5,760 training samples\n",
      "  640 validation samples\n"
     ]
    }
   ],
   "source": [
    "from torch.utils.data import TensorDataset, random_split\r\n",
    "\r\n",
    "# Combine the training inputs into a TensorDataset.\r\n",
    "dataset = TensorDataset(input_ids, attention_masks, labels)\r\n",
    "\r\n",
    "# Create a 90-10 train-validation split.\r\n",
    "\r\n",
    "# Calculate the number of samples to include in each set.\r\n",
    "train_size = int(0.9 * len(dataset))\r\n",
    "val_size = len(dataset) - train_size\r\n",
    "\r\n",
    "# Divide the dataset by randomly selecting samples.\r\n",
    "train_dataset, val_dataset = random_split(dataset, [train_size, val_size])\r\n",
    "\r\n",
    "print('{:>5,} training samples'.format(train_size))\r\n",
    "print('{:>5,} validation samples'.format(val_size))"
   ]
  },
  {
   "cell_type": "code",
   "execution_count": 72,
   "metadata": {
    "id": "LHf1KGY_GvSj"
   },
   "outputs": [],
   "source": [
    "from torch.utils.data import DataLoader, RandomSampler, SequentialSampler\r\n",
    "\r\n",
    "# The DataLoader needs to know our batch size for training, so we specify it \r\n",
    "# here. For fine-tuning BERT on a specific task, the authors recommend a batch \r\n",
    "# size of 16 or 32.\r\n",
    "batch_size = 8\r\n",
    "\r\n",
    "# Create the DataLoaders for our training and validation sets.\r\n",
    "# We'll take training samples in random order. \r\n",
    "train_dataloader = DataLoader(\r\n",
    "            train_dataset,  # The training samples.\r\n",
    "            sampler = RandomSampler(train_dataset), # Select batches randomly\r\n",
    "            batch_size = batch_size # Trains with this batch size.\r\n",
    "        )\r\n",
    "\r\n",
    "# For validation the order doesn't matter, so we'll just read them sequentially.\r\n",
    "validation_dataloader = DataLoader(\r\n",
    "            val_dataset, # The validation samples.\r\n",
    "            sampler = SequentialSampler(val_dataset), # Pull out batches sequentially.\r\n",
    "            batch_size = batch_size # Evaluate with this batch size\r\n",
    ")"
   ]
  },
  {
   "cell_type": "code",
   "execution_count": 73,
   "metadata": {
    "colab": {
     "base_uri": "https://localhost:8080/"
    },
    "id": "2Z5LPc0pG265",
    "outputId": "484763c1-94ab-48ed-fa4f-7116a63273dc"
   },
   "outputs": [
    {
     "name": "stderr",
     "output_type": "stream",
     "text": [
      "Some weights of the model checkpoint at bert-base-uncased were not used when initializing BertForSequenceClassification: ['cls.predictions.bias', 'cls.predictions.transform.dense.weight', 'cls.predictions.transform.dense.bias', 'cls.predictions.decoder.weight', 'cls.seq_relationship.weight', 'cls.seq_relationship.bias', 'cls.predictions.transform.LayerNorm.weight', 'cls.predictions.transform.LayerNorm.bias']\n",
      "- This IS expected if you are initializing BertForSequenceClassification from the checkpoint of a model trained on another task or with another architecture (e.g. initializing a BertForSequenceClassification model from a BertForPreTraining model).\n",
      "- This IS NOT expected if you are initializing BertForSequenceClassification from the checkpoint of a model that you expect to be exactly identical (initializing a BertForSequenceClassification model from a BertForSequenceClassification model).\n",
      "Some weights of BertForSequenceClassification were not initialized from the model checkpoint at bert-base-uncased and are newly initialized: ['classifier.weight', 'classifier.bias']\n",
      "You should probably TRAIN this model on a down-stream task to be able to use it for predictions and inference.\n"
     ]
    }
   ],
   "source": [
    "from transformers import BertForSequenceClassification, AdamW, BertConfig\r\n",
    "\r\n",
    "# Load BertForSequenceClassification, the pretrained BERT model with a single \r\n",
    "# linear classification layer on top. \r\n",
    "model = BertForSequenceClassification.from_pretrained(\r\n",
    "    \"bert-base-uncased\", # Use the 12-layer BERT model, with an uncased vocab.\r\n",
    "    num_labels = 2, # The number of output labels--2 for binary classification.\r\n",
    "                    # You can increase this for multi-class tasks.   \r\n",
    "    output_attentions = False, # Whether the model returns attentions weights.\r\n",
    "    output_hidden_states = False, # Whether the model returns all hidden-states.\r\n",
    ")\r\n",
    "\r\n",
    "# Tell pytorch to run this model on the GPU.\r\n",
    "model = model.to(device)"
   ]
  },
  {
   "cell_type": "code",
   "execution_count": 74,
   "metadata": {
    "id": "DuuM_cAzOEx3"
   },
   "outputs": [],
   "source": [
    "TEXT = torchtext.data.Field(lower=True, tokenize='spacy')\r\n",
    "Label = torchtext.data.LabelField(dtype = torch.float)"
   ]
  },
  {
   "cell_type": "code",
   "execution_count": 75,
   "metadata": {
    "id": "sRrc-F1OOWnA"
   },
   "outputs": [],
   "source": [
    "#setting up vocab for word embeddings\r\n",
    "from torchtext import vocab\r\n",
    "\r\n",
    "loaded_vectors = vocab.GloVe(name='6B', dim=50)"
   ]
  },
  {
   "cell_type": "code",
   "execution_count": 76,
   "metadata": {
    "colab": {
     "base_uri": "https://localhost:8080/"
    },
    "id": "VowXJENFRljE",
    "outputId": "b63033c6-d5aa-4a12-86c6-9e239f216b6d"
   },
   "outputs": [
    {
     "name": "stdout",
     "output_type": "stream",
     "text": [
      "Vocabulary Size:  365\n"
     ]
    }
   ],
   "source": [
    "TEXT.build_vocab(comments, vectors=loaded_vectors, max_size=len(loaded_vectors.stoi))\r\n",
    "    \r\n",
    "TEXT.vocab.set_vectors(stoi=loaded_vectors.stoi, vectors=loaded_vectors.vectors, dim=loaded_vectors.dim)\r\n",
    "Label.build_vocab(['male','female'])\r\n",
    "print('Vocabulary Size: ', len(TEXT.vocab))"
   ]
  },
  {
   "cell_type": "code",
   "execution_count": 77,
   "metadata": {
    "id": "oRPZqJyFPbfF"
   },
   "outputs": [],
   "source": [
    "#provide padding index as reference token index\r\n",
    "PAD_IND = TEXT.vocab.stoi['pad']\r\n",
    "token_reference = TokenReferenceBase(reference_token_idx=PAD_IND)"
   ]
  },
  {
   "cell_type": "code",
   "execution_count": 78,
   "metadata": {
    "id": "AksknLguH3My"
   },
   "outputs": [],
   "source": [
    "# Note: AdamW is a class from the huggingface library (as opposed to pytorch) \r\n",
    "# I believe the 'W' stands for 'Weight Decay fix\"\r\n",
    "optimizer = AdamW(model.parameters(),\r\n",
    "                  lr = 2e-5, # args.learning_rate - default is 5e-5, our notebook had 2e-5\r\n",
    "                  eps = 1e-8 # args.adam_epsilon  - default is 1e-8.\r\n",
    "                )"
   ]
  },
  {
   "cell_type": "code",
   "execution_count": 79,
   "metadata": {
    "id": "ioeJ5LI8H5QS"
   },
   "outputs": [],
   "source": [
    "from transformers import get_linear_schedule_with_warmup\r\n",
    "\r\n",
    "# Number of training epochs. The BERT authors recommend between 2 and 4. \r\n",
    "# We chose to run for 4, but we'll see later that this may be over-fitting the\r\n",
    "# training data.\r\n",
    "epochs = 3\r\n",
    "\r\n",
    "# Total number of training steps is [number of batches] x [number of epochs]. \r\n",
    "# (Note that this is not the same as the number of training samples).\r\n",
    "total_steps = len(train_dataloader) * epochs\r\n",
    "\r\n",
    "# Create the learning rate scheduler.\r\n",
    "scheduler = get_linear_schedule_with_warmup(optimizer, \r\n",
    "                                            num_warmup_steps = 0, # Default value in run_glue.py\r\n",
    "                                            num_training_steps = total_steps)"
   ]
  },
  {
   "cell_type": "code",
   "execution_count": 80,
   "metadata": {
    "id": "AS__7IZPH-v7"
   },
   "outputs": [],
   "source": [
    "# Function to calculate the accuracy of our predictions vs labels\r\n",
    "def flat_accuracy(preds, labels):\r\n",
    "    pred_flat = np.argmax(preds, axis=1).flatten()\r\n",
    "    labels_flat = labels.flatten()\r\n",
    "    return np.sum(pred_flat == labels_flat) / len(labels_flat)"
   ]
  },
  {
   "cell_type": "code",
   "execution_count": 81,
   "metadata": {
    "id": "rR6fseNsH__N"
   },
   "outputs": [],
   "source": [
    "import time\r\n",
    "import datetime\r\n",
    "\r\n",
    "def format_time(elapsed):\r\n",
    "    '''\r\n",
    "    Takes a time in seconds and returns a string hh:mm:ss\r\n",
    "    '''\r\n",
    "    # Round to the nearest second.\r\n",
    "    elapsed_rounded = int(round((elapsed)))\r\n",
    "    \r\n",
    "    # Format as hh:mm:ss\r\n",
    "    return str(datetime.timedelta(seconds=elapsed_rounded))"
   ]
  },
  {
   "cell_type": "code",
   "execution_count": 82,
   "metadata": {
    "colab": {
     "base_uri": "https://localhost:8080/"
    },
    "id": "qBM-WqAWIDbS",
    "outputId": "c07dd65e-d100-4da7-eb13-b3bc7e6f73e9"
   },
   "outputs": [
    {
     "name": "stdout",
     "output_type": "stream",
     "text": [
      "\n",
      "======== Epoch 1 / 3 ========\n",
      "Training...\n",
      "  Batch    40  of    720.    Elapsed: 0:00:29.\n",
      "  Batch    80  of    720.    Elapsed: 0:00:58.\n",
      "  Batch   120  of    720.    Elapsed: 0:01:27.\n",
      "  Batch   160  of    720.    Elapsed: 0:01:57.\n",
      "  Batch   200  of    720.    Elapsed: 0:02:26.\n",
      "  Batch   240  of    720.    Elapsed: 0:02:55.\n",
      "  Batch   280  of    720.    Elapsed: 0:03:24.\n",
      "  Batch   320  of    720.    Elapsed: 0:03:53.\n",
      "  Batch   360  of    720.    Elapsed: 0:04:22.\n",
      "  Batch   400  of    720.    Elapsed: 0:04:51.\n",
      "  Batch   440  of    720.    Elapsed: 0:05:20.\n",
      "  Batch   480  of    720.    Elapsed: 0:05:49.\n",
      "  Batch   520  of    720.    Elapsed: 0:06:19.\n",
      "  Batch   560  of    720.    Elapsed: 0:06:48.\n",
      "  Batch   600  of    720.    Elapsed: 0:07:17.\n",
      "  Batch   640  of    720.    Elapsed: 0:07:46.\n",
      "  Batch   680  of    720.    Elapsed: 0:08:15.\n",
      "\n",
      "  Average training loss: 0.70\n",
      "  Training epoch took: 0:08:44\n",
      "\n",
      "Running Validation...\n",
      "  Accuracy: 0.53\n",
      "  Validation Loss: 0.69\n",
      "  Validation took: 0:00:20\n",
      "\n",
      "======== Epoch 2 / 3 ========\n",
      "Training...\n",
      "  Batch    40  of    720.    Elapsed: 0:00:29.\n",
      "  Batch    80  of    720.    Elapsed: 0:00:58.\n",
      "  Batch   120  of    720.    Elapsed: 0:01:27.\n",
      "  Batch   160  of    720.    Elapsed: 0:01:57.\n",
      "  Batch   200  of    720.    Elapsed: 0:02:26.\n",
      "  Batch   240  of    720.    Elapsed: 0:02:55.\n",
      "  Batch   280  of    720.    Elapsed: 0:03:24.\n",
      "  Batch   320  of    720.    Elapsed: 0:03:53.\n",
      "  Batch   360  of    720.    Elapsed: 0:04:22.\n",
      "  Batch   400  of    720.    Elapsed: 0:04:51.\n",
      "  Batch   440  of    720.    Elapsed: 0:05:21.\n",
      "  Batch   480  of    720.    Elapsed: 0:05:50.\n",
      "  Batch   520  of    720.    Elapsed: 0:06:19.\n",
      "  Batch   560  of    720.    Elapsed: 0:06:48.\n",
      "  Batch   600  of    720.    Elapsed: 0:07:17.\n",
      "  Batch   640  of    720.    Elapsed: 0:07:46.\n",
      "  Batch   680  of    720.    Elapsed: 0:08:15.\n",
      "\n",
      "  Average training loss: 0.69\n",
      "  Training epoch took: 0:08:45\n",
      "\n",
      "Running Validation...\n",
      "  Accuracy: 0.49\n",
      "  Validation Loss: 0.72\n",
      "  Validation took: 0:00:20\n",
      "\n",
      "======== Epoch 3 / 3 ========\n",
      "Training...\n",
      "  Batch    40  of    720.    Elapsed: 0:00:29.\n",
      "  Batch    80  of    720.    Elapsed: 0:00:58.\n",
      "  Batch   120  of    720.    Elapsed: 0:01:27.\n",
      "  Batch   160  of    720.    Elapsed: 0:01:57.\n",
      "  Batch   200  of    720.    Elapsed: 0:02:26.\n",
      "  Batch   240  of    720.    Elapsed: 0:02:55.\n",
      "  Batch   280  of    720.    Elapsed: 0:03:24.\n",
      "  Batch   320  of    720.    Elapsed: 0:03:53.\n",
      "  Batch   360  of    720.    Elapsed: 0:04:22.\n",
      "  Batch   400  of    720.    Elapsed: 0:04:51.\n",
      "  Batch   440  of    720.    Elapsed: 0:05:20.\n",
      "  Batch   480  of    720.    Elapsed: 0:05:49.\n",
      "  Batch   520  of    720.    Elapsed: 0:06:19.\n",
      "  Batch   560  of    720.    Elapsed: 0:06:48.\n",
      "  Batch   600  of    720.    Elapsed: 0:07:17.\n",
      "  Batch   640  of    720.    Elapsed: 0:07:46.\n",
      "  Batch   680  of    720.    Elapsed: 0:08:15.\n",
      "\n",
      "  Average training loss: 0.59\n",
      "  Training epoch took: 0:08:44\n",
      "\n",
      "Running Validation...\n",
      "  Accuracy: 0.50\n",
      "  Validation Loss: 0.86\n",
      "  Validation took: 0:00:20\n",
      "\n",
      "Training complete!\n",
      "Total training took 0:27:12 (h:mm:ss)\n"
     ]
    }
   ],
   "source": [
    "import random\r\n",
    "\r\n",
    "pretrained = False\r\n",
    "\r\n",
    "if pretrained:\r\n",
    "    model.load_state_dict(torch.load('bert_model.pt'))\r\n",
    "    model.eval()\r\n",
    "else:\r\n",
    "\r\n",
    "  # This training code is based on the `run_glue.py` script here:\r\n",
    "  # https://github.com/huggingface/transformers/blob/5bfcd0485ece086ebcbed2d008813037968a9e58/examples/run_glue.py#L128\r\n",
    "\r\n",
    "  # Set the seed value all over the place to make this reproducible.\r\n",
    "  seed_val = 42\r\n",
    "\r\n",
    "  random.seed(seed_val)\r\n",
    "  np.random.seed(seed_val)\r\n",
    "  torch.manual_seed(seed_val)\r\n",
    "  torch.cuda.manual_seed_all(seed_val)\r\n",
    "\r\n",
    "  # We'll store a number of quantities such as training and validation loss, \r\n",
    "  # validation accuracy, and timings.\r\n",
    "  training_stats = []\r\n",
    "\r\n",
    "  # Measure the total training time for the whole run.\r\n",
    "  total_t0 = time.time()\r\n",
    "\r\n",
    "  # For each epoch...\r\n",
    "  for epoch_i in range(0, epochs):\r\n",
    "      \r\n",
    "      # ========================================\r\n",
    "      #               Training\r\n",
    "      # ========================================\r\n",
    "      \r\n",
    "      # Perform one full pass over the training set.\r\n",
    "\r\n",
    "      print(\"\")\r\n",
    "      print('======== Epoch {:} / {:} ========'.format(epoch_i + 1, epochs))\r\n",
    "      print('Training...')\r\n",
    "\r\n",
    "      # Measure how long the training epoch takes.\r\n",
    "      t0 = time.time()\r\n",
    "\r\n",
    "      # Reset the total loss for this epoch.\r\n",
    "      total_train_loss = 0\r\n",
    "\r\n",
    "      # Put the model into training mode. Don't be misled--the call to \r\n",
    "      # `train` just changes the *mode*, it doesn't *perform* the training.\r\n",
    "      # `dropout` and `batchnorm` layers behave differently during training\r\n",
    "      # vs. test (source: https://stackoverflow.com/questions/51433378/what-does-model-train-do-in-pytorch)\r\n",
    "      model.train()\r\n",
    "\r\n",
    "      # For each batch of training data...\r\n",
    "      for step, batch in enumerate(train_dataloader):\r\n",
    "\r\n",
    "          # Progress update every 40 batches.\r\n",
    "          if step % 40 == 0 and not step == 0:\r\n",
    "              # Calculate elapsed time in minutes.\r\n",
    "              elapsed = format_time(time.time() - t0)\r\n",
    "              \r\n",
    "              # Report progress.\r\n",
    "              print('  Batch {:>5,}  of  {:>5,}.    Elapsed: {:}.'.format(step, len(train_dataloader), elapsed))\r\n",
    "\r\n",
    "          # Unpack this training batch from our dataloader. \r\n",
    "          #\r\n",
    "          # As we unpack the batch, we'll also copy each tensor to the GPU using the \r\n",
    "          # `to` method.\r\n",
    "          #\r\n",
    "          # `batch` contains three pytorch tensors:\r\n",
    "          #   [0]: input ids \r\n",
    "          #   [1]: attention masks\r\n",
    "          #   [2]: labels \r\n",
    "          b_input_ids = batch[0].to(device)\r\n",
    "          b_input_mask = batch[1].to(device)\r\n",
    "          b_labels = batch[2].to(device)\r\n",
    "\r\n",
    "          # Always clear any previously calculated gradients before performing a\r\n",
    "          # backward pass. PyTorch doesn't do this automatically because \r\n",
    "          # accumulating the gradients is \"convenient while training RNNs\". \r\n",
    "          # (source: https://stackoverflow.com/questions/48001598/why-do-we-need-to-call-zero-grad-in-pytorch)\r\n",
    "          model.zero_grad()        \r\n",
    "\r\n",
    "          # Perform a forward pass (evaluate the model on this training batch).\r\n",
    "          # The documentation for this `model` function is here: \r\n",
    "          # https://huggingface.co/transformers/v2.2.0/model_doc/bert.html#transformers.BertForSequenceClassification\r\n",
    "          # It returns different numbers of parameters depending on what arguments\r\n",
    "          # arge given and what flags are set. For our useage here, it returns\r\n",
    "          # the loss (because we provided labels) and the \"logits\"--the model\r\n",
    "          # outputs prior to activation.\r\n",
    "          loss, logits = model(b_input_ids, \r\n",
    "                              token_type_ids=None, \r\n",
    "                              attention_mask=b_input_mask, \r\n",
    "                              labels=b_labels.long())\r\n",
    "\r\n",
    "          # Accumulate the training loss over all of the batches so that we can\r\n",
    "          # calculate the average loss at the end. `loss` is a Tensor containing a\r\n",
    "          # single value; the `.item()` function just returns the Python value \r\n",
    "          # from the tensor.\r\n",
    "          total_train_loss += loss.item()\r\n",
    "\r\n",
    "          # Perform a backward pass to calculate the gradients.\r\n",
    "          loss.backward()\r\n",
    "\r\n",
    "          # Clip the norm of the gradients to 1.0.\r\n",
    "          # This is to help prevent the \"exploding gradients\" problem.\r\n",
    "          torch.nn.utils.clip_grad_norm_(model.parameters(), 1.0)\r\n",
    "\r\n",
    "          # Update parameters and take a step using the computed gradient.\r\n",
    "          # The optimizer dictates the \"update rule\"--how the parameters are\r\n",
    "          # modified based on their gradients, the learning rate, etc.\r\n",
    "          optimizer.step()\r\n",
    "\r\n",
    "          # Update the learning rate.\r\n",
    "          scheduler.step()\r\n",
    "\r\n",
    "      # Calculate the average loss over all of the batches.\r\n",
    "      avg_train_loss = total_train_loss / len(train_dataloader)            \r\n",
    "      \r\n",
    "      # Measure how long this epoch took.\r\n",
    "      training_time = format_time(time.time() - t0)\r\n",
    "\r\n",
    "      print(\"\")\r\n",
    "      print(\"  Average training loss: {0:.2f}\".format(avg_train_loss))\r\n",
    "      print(\"  Training epoch took: {:}\".format(training_time))\r\n",
    "          \r\n",
    "      # ========================================\r\n",
    "      #               Validation\r\n",
    "      # ========================================\r\n",
    "      # After the completion of each training epoch, measure our performance on\r\n",
    "      # our validation set.\r\n",
    "\r\n",
    "      print(\"\")\r\n",
    "      print(\"Running Validation...\")\r\n",
    "\r\n",
    "      t0 = time.time()\r\n",
    "\r\n",
    "      # Put the model in evaluation mode--the dropout layers behave differently\r\n",
    "      # during evaluation.\r\n",
    "      model.eval()\r\n",
    "\r\n",
    "      # Tracking variables \r\n",
    "      total_eval_accuracy = 0\r\n",
    "      total_eval_loss = 0\r\n",
    "      nb_eval_steps = 0\r\n",
    "\r\n",
    "      # Evaluate data for one epoch\r\n",
    "      for batch in validation_dataloader:\r\n",
    "          \r\n",
    "          # Unpack this training batch from our dataloader. \r\n",
    "          #\r\n",
    "          # As we unpack the batch, we'll also copy each tensor to the GPU using \r\n",
    "          # the `to` method.\r\n",
    "          #\r\n",
    "          # `batch` contains three pytorch tensors:\r\n",
    "          #   [0]: input ids \r\n",
    "          #   [1]: attention masks\r\n",
    "          #   [2]: labels \r\n",
    "          b_input_ids = batch[0].to(device)\r\n",
    "          b_input_mask = batch[1].to(device)\r\n",
    "          b_labels = batch[2].to(device)\r\n",
    "          \r\n",
    "          # Tell pytorch not to bother with constructing the compute graph during\r\n",
    "          # the forward pass, since this is only needed for backprop (training).\r\n",
    "          with torch.no_grad():        \r\n",
    "\r\n",
    "              # Forward pass, calculate logit predictions.\r\n",
    "              # token_type_ids is the same as the \"segment ids\", which \r\n",
    "              # differentiates sentence 1 and 2 in 2-sentence tasks.\r\n",
    "              # The documentation for this `model` function is here: \r\n",
    "              # https://huggingface.co/transformers/v2.2.0/model_doc/bert.html#transformers.BertForSequenceClassification\r\n",
    "              # Get the \"logits\" output by the model. The \"logits\" are the output\r\n",
    "              # values prior to applying an activation function like the softmax.\r\n",
    "              (loss, logits) = model(b_input_ids, \r\n",
    "                                    token_type_ids=None, \r\n",
    "                                    attention_mask=b_input_mask,\r\n",
    "                                    labels=b_labels.long())\r\n",
    "              \r\n",
    "          # Accumulate the validation loss.\r\n",
    "          total_eval_loss += loss.item()\r\n",
    "\r\n",
    "          # Move logits and labels to CPU\r\n",
    "          logits = logits.detach().cpu().numpy()\r\n",
    "          label_ids = b_labels.to('cpu').numpy()\r\n",
    "\r\n",
    "          # Calculate the accuracy for this batch of test sentences, and\r\n",
    "          # accumulate it over all batches.\r\n",
    "          total_eval_accuracy += flat_accuracy(logits, label_ids)\r\n",
    "          \r\n",
    "\r\n",
    "      # Report the final accuracy for this validation run.\r\n",
    "      avg_val_accuracy = total_eval_accuracy / len(validation_dataloader)\r\n",
    "      print(\"  Accuracy: {0:.2f}\".format(avg_val_accuracy))\r\n",
    "\r\n",
    "      # Calculate the average loss over all of the batches.\r\n",
    "      avg_val_loss = total_eval_loss / len(validation_dataloader)\r\n",
    "      \r\n",
    "      # Measure how long the validation run took.\r\n",
    "      validation_time = format_time(time.time() - t0)\r\n",
    "      \r\n",
    "      print(\"  Validation Loss: {0:.2f}\".format(avg_val_loss))\r\n",
    "      print(\"  Validation took: {:}\".format(validation_time))\r\n",
    "\r\n",
    "      # Record all statistics from this epoch.\r\n",
    "      training_stats.append(\r\n",
    "          {\r\n",
    "              'epoch': epoch_i + 1,\r\n",
    "              'Training Loss': avg_train_loss,\r\n",
    "              'Valid. Loss': avg_val_loss,\r\n",
    "              'Valid. Accur.': avg_val_accuracy,\r\n",
    "              'Training Time': training_time,\r\n",
    "              'Validation Time': validation_time\r\n",
    "          }\r\n",
    "      )\r\n",
    "\r\n",
    "  print(\"\")\r\n",
    "  print(\"Training complete!\")\r\n",
    "\r\n",
    "  print(\"Total training took {:} (h:mm:ss)\".format(format_time(time.time()-total_t0)))\r\n",
    "  torch.save(model.state_dict(), 'bert_model.pt')"
   ]
  },
  {
   "cell_type": "code",
   "execution_count": 83,
   "metadata": {
    "colab": {
     "base_uri": "https://localhost:8080/",
     "height": 166
    },
    "id": "kyRJP4p6IONm",
    "outputId": "eafe029d-9d71-4e0b-d58b-e69d1079f264"
   },
   "outputs": [
    {
     "data": {
      "text/html": [
       "<div>\n",
       "<style scoped>\n",
       "    .dataframe tbody tr th:only-of-type {\n",
       "        vertical-align: middle;\n",
       "    }\n",
       "\n",
       "    .dataframe tbody tr th {\n",
       "        vertical-align: top;\n",
       "    }\n",
       "\n",
       "    .dataframe thead th {\n",
       "        text-align: right;\n",
       "    }\n",
       "</style>\n",
       "<table border=\"1\" class=\"dataframe\">\n",
       "  <thead>\n",
       "    <tr style=\"text-align: right;\">\n",
       "      <th></th>\n",
       "      <th>Training Loss</th>\n",
       "      <th>Valid. Loss</th>\n",
       "      <th>Valid. Accur.</th>\n",
       "      <th>Training Time</th>\n",
       "      <th>Validation Time</th>\n",
       "    </tr>\n",
       "    <tr>\n",
       "      <th>epoch</th>\n",
       "      <th></th>\n",
       "      <th></th>\n",
       "      <th></th>\n",
       "      <th></th>\n",
       "      <th></th>\n",
       "    </tr>\n",
       "  </thead>\n",
       "  <tbody>\n",
       "    <tr>\n",
       "      <th>1</th>\n",
       "      <td>0.70</td>\n",
       "      <td>0.69</td>\n",
       "      <td>0.53</td>\n",
       "      <td>0:08:44</td>\n",
       "      <td>0:00:20</td>\n",
       "    </tr>\n",
       "    <tr>\n",
       "      <th>2</th>\n",
       "      <td>0.69</td>\n",
       "      <td>0.72</td>\n",
       "      <td>0.49</td>\n",
       "      <td>0:08:45</td>\n",
       "      <td>0:00:20</td>\n",
       "    </tr>\n",
       "    <tr>\n",
       "      <th>3</th>\n",
       "      <td>0.59</td>\n",
       "      <td>0.86</td>\n",
       "      <td>0.50</td>\n",
       "      <td>0:08:44</td>\n",
       "      <td>0:00:20</td>\n",
       "    </tr>\n",
       "  </tbody>\n",
       "</table>\n",
       "</div>"
      ],
      "text/plain": [
       "       Training Loss  Valid. Loss  Valid. Accur. Training Time Validation Time\n",
       "epoch                                                                         \n",
       "1               0.70         0.69           0.53       0:08:44         0:00:20\n",
       "2               0.69         0.72           0.49       0:08:45         0:00:20\n",
       "3               0.59         0.86           0.50       0:08:44         0:00:20"
      ]
     },
     "execution_count": 83,
     "metadata": {
      "tags": []
     },
     "output_type": "execute_result"
    }
   ],
   "source": [
    "# Display floats with two decimal places.\r\n",
    "pd.set_option('precision', 2)\r\n",
    "\r\n",
    "# Create a DataFrame from our training statistics.\r\n",
    "df_stats = pd.DataFrame(data=training_stats)\r\n",
    "\r\n",
    "# Use the 'epoch' as the row index.\r\n",
    "df_stats = df_stats.set_index('epoch')\r\n",
    "\r\n",
    "# A hack to force the column headers to wrap.\r\n",
    "#df = df.style.set_table_styles([dict(selector=\"th\",props=[('max-width', '70px')])])\r\n",
    "\r\n",
    "# Display the table.\r\n",
    "df_stats"
   ]
  },
  {
   "cell_type": "code",
   "execution_count": 84,
   "metadata": {
    "colab": {
     "base_uri": "https://localhost:8080/",
     "height": 906
    },
    "id": "PCXAxB6tIXY5",
    "outputId": "b69ba43e-0cef-4505-ecfb-859fd5fd778f"
   },
   "outputs": [
    {
     "name": "stdout",
     "output_type": "stream",
     "text": [
      "testing on female\n",
      "Number of test sentences: 800\n",
      "\n"
     ]
    },
    {
     "name": "stderr",
     "output_type": "stream",
     "text": [
      "/usr/local/lib/python3.6/dist-packages/transformers/tokenization_utils_base.py:2022: FutureWarning:\n",
      "\n",
      "The `pad_to_max_length` argument is deprecated and will be removed in a future version, use `padding=True` or `padding='longest'` to pad to the longest sequence in the batch, or use `padding='max_length'` to pad to a max length. In this case, you can give a specific length with `max_length` (e.g. `max_length=45`) or leave max_length to None to pad to the maximal input size of the model (e.g. 512 for Bert).\n",
      "\n"
     ]
    },
    {
     "name": "stdout",
     "output_type": "stream",
     "text": [
      "Predicting labels for 800 test sentences...\n",
      "    DONE.\n",
      "Total F1: 0.599\n",
      "Accuracy: 0.43\n"
     ]
    },
    {
     "data": {
      "image/png": "[encoded data removed]",
      "text/plain": [
       "<Figure size 432x288 with 2 Axes>"
      ]
     },
     "metadata": {
      "needs_background": "light",
      "tags": []
     },
     "output_type": "display_data"
    },
    {
     "name": "stdout",
     "output_type": "stream",
     "text": [
      "testing on male\n",
      "Number of test sentences: 800\n",
      "\n"
     ]
    },
    {
     "name": "stderr",
     "output_type": "stream",
     "text": [
      "/usr/local/lib/python3.6/dist-packages/transformers/tokenization_utils_base.py:2022: FutureWarning:\n",
      "\n",
      "The `pad_to_max_length` argument is deprecated and will be removed in a future version, use `padding=True` or `padding='longest'` to pad to the longest sequence in the batch, or use `padding='max_length'` to pad to a max length. In this case, you can give a specific length with `max_length` (e.g. `max_length=45`) or leave max_length to None to pad to the maximal input size of the model (e.g. 512 for Bert).\n",
      "\n"
     ]
    },
    {
     "name": "stdout",
     "output_type": "stream",
     "text": [
      "Predicting labels for 800 test sentences...\n",
      "    DONE.\n",
      "Total F1: 0.000\n",
      "Accuracy: 0.56\n"
     ]
    },
    {
     "data": {
      "image/png": "[encoded data removed]",
      "text/plain": [
       "<Figure size 432x288 with 2 Axes>"
      ]
     },
     "metadata": {
      "needs_background": "light",
      "tags": []
     },
     "output_type": "display_data"
    }
   ],
   "source": [
    "# create test set\r\n",
    "\r\n",
    "correct_female_pred = []\r\n",
    "correct_male_pred = []\r\n",
    "accuracies = []\r\n",
    "for i in range(2):\r\n",
    "  if i == 0:\r\n",
    "    df = test_data[test_data.female_binary==1]\r\n",
    "    print('testing on female')\r\n",
    "  else:\r\n",
    "    df = test_data[test_data.female_binary==0]\r\n",
    "    print('testing on male')\r\n",
    "\r\n",
    "  df = df.sample(frac=1)\r\n",
    "  print('Number of test sentences: {:,}\\n'.format(df.shape[0]))\r\n",
    "\r\n",
    "  comments = df.comment.values\r\n",
    "  labels = df.female_binary.values\r\n",
    "\r\n",
    "  # Tokenize all of the sentences and map the tokens to thier word IDs.\r\n",
    "  input_ids = []\r\n",
    "  attention_masks = []\r\n",
    "\r\n",
    "  # For every sentence...\r\n",
    "  for cmt in comments:\r\n",
    "      # `encode_plus` will:\r\n",
    "      #   (1) Tokenize the sentence.\r\n",
    "      #   (2) Prepend the `[CLS]` token to the start.\r\n",
    "      #   (3) Append the `[SEP]` token to the end.\r\n",
    "      #   (4) Map tokens to their IDs.\r\n",
    "      #   (5) Pad or truncate the sentence to `max_length`\r\n",
    "      #   (6) Create attention masks for [PAD] tokens.\r\n",
    "      encoded_dict = tokenizer.encode_plus(\r\n",
    "                          cmt,                      # Sentence to encode.\r\n",
    "                          add_special_tokens = True, # Add '[CLS]' and '[SEP]'\r\n",
    "                          max_length = 250,           # Pad & truncate all sentences.\r\n",
    "                          pad_to_max_length = True,\r\n",
    "                          return_attention_mask = True,   # Construct attn. masks.\r\n",
    "                          return_tensors = 'pt',     # Return pytorch tensors.\r\n",
    "                    )\r\n",
    "      \r\n",
    "      # Add the encoded sentence to the list.    \r\n",
    "      input_ids.append(encoded_dict['input_ids'])\r\n",
    "      \r\n",
    "      # And its attention mask (simply differentiates padding from non-padding).\r\n",
    "      attention_masks.append(encoded_dict['attention_mask'])\r\n",
    "\r\n",
    "  # Convert the lists into tensors.\r\n",
    "  input_ids = torch.cat(input_ids, dim=0)\r\n",
    "  attention_masks = torch.cat(attention_masks, dim=0)\r\n",
    "  labels = torch.tensor(labels)\r\n",
    "\r\n",
    "  # Set the batch size.  \r\n",
    "  batch_size = 8\r\n",
    "\r\n",
    "  # Create the DataLoader.\r\n",
    "  prediction_data = TensorDataset(input_ids, attention_masks, labels)\r\n",
    "  prediction_sampler = SequentialSampler(prediction_data)\r\n",
    "  prediction_dataloader = DataLoader(prediction_data, sampler=prediction_sampler, batch_size=batch_size)\r\n",
    "\r\n",
    "  # Prediction on test set\r\n",
    "\r\n",
    "  print('Predicting labels for {:,} test sentences...'.format(len(input_ids)))\r\n",
    "\r\n",
    "  # Put model in evaluation mode\r\n",
    "  model.eval()\r\n",
    "\r\n",
    "  # Tracking variables \r\n",
    "  predictions , true_labels = [], []\r\n",
    "\r\n",
    "  # Predict \r\n",
    "  for batch in prediction_dataloader:\r\n",
    "    # Add batch to GPU\r\n",
    "    batch = tuple(t.to(device) for t in batch)\r\n",
    "    \r\n",
    "    # Unpack the inputs from our dataloader\r\n",
    "    b_input_ids, b_input_mask, b_labels = batch\r\n",
    "    \r\n",
    "    # Telling the model not to compute or store gradients, saving memory and \r\n",
    "    # speeding up prediction\r\n",
    "    with torch.no_grad():\r\n",
    "        # Forward pass, calculate logit predictions\r\n",
    "        outputs = model(b_input_ids, token_type_ids=None, \r\n",
    "                        attention_mask=b_input_mask)\r\n",
    "\r\n",
    "    logits = outputs[0]\r\n",
    "\r\n",
    "    # Move logits and labels to CPU\r\n",
    "    logits = logits.detach().cpu().numpy()\r\n",
    "    label_ids = b_labels.to('cpu').numpy()\r\n",
    "    \r\n",
    "    # Store predictions and true labels\r\n",
    "    predictions.append(logits)\r\n",
    "    true_labels.append(label_ids)\r\n",
    "\r\n",
    "  print('    DONE.')\r\n",
    "\r\n",
    "  from sklearn.metrics import f1_score, confusion_matrix, accuracy_score\r\n",
    "  import seaborn as sns\r\n",
    "  import matplotlib.pyplot as plt\r\n",
    "  \r\n",
    "  # Combine the results across all batches. \r\n",
    "  flat_pred = np.concatenate(predictions, axis=0)\r\n",
    "  # For each sample, pick the label (0 or 1) with the higher score.\r\n",
    "  flat_predictions = np.argmax(flat_pred, axis=1).flatten()\r\n",
    "\r\n",
    "  # Combine the correct labels for each batch into a single list.\r\n",
    "  flat_true_labels = np.concatenate(true_labels, axis=0)\r\n",
    "\r\n",
    "  for i in range(len(flat_true_labels)):\r\n",
    "    if flat_true_labels[i]==flat_predictions[i]:\r\n",
    "      if flat_true_labels[i] == 1:\r\n",
    "        correct_female_pred.append(tuple(flat_pred[i]))\r\n",
    "      else:\r\n",
    "        correct_male_pred.append(tuple(flat_pred[i]))\r\n",
    "\r\n",
    "  f1 = f1_score(flat_true_labels, flat_predictions)\r\n",
    "  print('Total F1: %.3f' % f1)\r\n",
    "  acc = accuracy_score(flat_true_labels,flat_predictions)\r\n",
    "  print('Accuracy: %.2f' % acc)\r\n",
    "  accuracies.append(acc)\r\n",
    "\r\n",
    "  cf_matrix = confusion_matrix(flat_true_labels, flat_predictions)\r\n",
    "  group_names = ['True Neg','False Pos','False Neg','True Pos']\r\n",
    "  group_counts = ['{0:0.0f}'.format(value) for value in\r\n",
    "                  cf_matrix.flatten()]\r\n",
    "  group_percentages = ['{0:.2%}'.format(value) for value in\r\n",
    "                      cf_matrix.flatten()/np.sum(cf_matrix)]\r\n",
    "  labels = [f'{v1}\\n{v2}\\n{v3}' for v1, v2, v3 in\r\n",
    "            zip(group_names,group_counts,group_percentages)]\r\n",
    "  try:\r\n",
    "    labels = np.asarray(labels).reshape(2,2)\r\n",
    "    sns.heatmap(cf_matrix, annot=labels, fmt='', cmap='Blues')\r\n",
    "    plt.show()\r\n",
    "  except ValueError:\r\n",
    "    print(\"could not display\")\r\n",
    "\r\n",
    "  # f1_set = []\r\n",
    "\r\n",
    "  # # Evaluate each test batch\r\n",
    "  # print('Calculating and F1 score for each batch...')\r\n",
    "\r\n",
    "  # # For each input batch...\r\n",
    "  # for i in range(len(true_labels)):\r\n",
    "    \r\n",
    "  #   # The predictions for this batch are a 2-column ndarray (one column for \"0\" \r\n",
    "  #   # and one column for \"1\"). Pick the label with the highest value and turn this\r\n",
    "  #   # in to a list of 0s and 1s.\r\n",
    "  #   pred_labels_i = np.argmax(predictions[i], axis=1).flatten()\r\n",
    "    \r\n",
    "  #   # Calculate and store the coef for this batch.  \r\n",
    "  #   score = f1_score(true_labels[i], pred_labels_i)\r\n",
    "  #   f1_set.append(score)\r\n",
    "\r\n",
    "  # # Create a barplot showing the f1 score for each batch of test samples.\r\n",
    "  # ax = sns.barplot(x=list(range(len(f1_set))), y=f1_set, ci=None)\r\n",
    "\r\n",
    "  # plt.title('f1 Score per Batch')\r\n",
    "  # plt.ylabel('f1 Score (0 to +1)')\r\n",
    "  # plt.xlabel('Batch #')\r\n",
    "\r\n",
    "  # plt.show()"
   ]
  },
  {
   "cell_type": "code",
   "execution_count": 85,
   "metadata": {
    "colab": {
     "base_uri": "https://localhost:8080/",
     "height": 1000
    },
    "id": "qlqP9YN4Jv6S",
    "outputId": "fc839cc7-2493-42aa-e7b7-1ef2a51b5fe7"
   },
   "outputs": [
    {
     "data": {
      "text/html": [
       "<html>\n",
       "<head><meta charset=\"utf-8\" /></head>\n",
       "<body>\n",
       "    <div>\n",
       "            <script src=\"https://cdnjs.cloudflare.com/ajax/libs/mathjax/2.7.5/MathJax.js?config=TeX-AMS-MML_SVG\"></script><script type=\"text/javascript\">if (window.MathJax) {MathJax.Hub.Config({SVG: {font: \"STIX-Web\"}});}</script>\n",
       "                <script type=\"text/javascript\">window.PlotlyConfig = {MathJaxConfig: 'local'};</script>\n",
       "        <script src=\"https://cdn.plot.ly/plotly-latest.min.js\"></script>    \n",
       "            <div id=\"510a6879-5556-4fb3-9320-c22b5745f844\" class=\"plotly-graph-div\" style=\"height:525px; width:100%;\"></div>\n",
       "            <script type=\"text/javascript\">\n",
       "                \n",
       "                    window.PLOTLYENV=window.PLOTLYENV || {};\n",
       "                    \n",
       "                if (document.getElementById(\"510a6879-5556-4fb3-9320-c22b5745f844\")) {\n",
       "                    Plotly.newPlot(\n",
       "                        '510a6879-5556-4fb3-9320-c22b5745f844',\n",
       "                        [{\"mode\": \"markers\", \"type\": \"scatter\", \"x\": [1.0402634143829346, 0.22372545301914215, 1.0020222663879395, 0.75705885887146, 1.6001238822937012, 0.11831190437078476, 0.2671370208263397, 0.43977081775665283, 0.20190756022930145, 1.0235779285430908, 0.08807693421840668, 0.11439359933137894, 0.40160849690437317, 0.2503064274787903, 0.07403279840946198, 1.0775620937347412, 1.0706803798675537, 0.07832381129264832, 1.2524861097335815, 1.2870346307754517, 1.004511833190918, 0.6700026392936707, 0.18470896780490875, 0.11396200209856033, 0.3647397756576538, -0.004718088079243898, 0.5514751672744751, 0.27698490023612976, 0.5082469582557678, 0.0652766078710556, 0.2052578628063202, 0.1563095897436142, 0.2456756830215454, 0.812459409236908, 0.2422187626361847, 0.09598582237958908, 0.4548196792602539, 0.9925454258918762, 0.6651700139045715, 0.10376360267400742, 0.08540400862693787, 0.4784102737903595, 0.2572231888771057, 0.10283657908439636, 0.47262394428253174, 0.06852080672979355, 1.1210376024246216, 1.4048608541488647, 0.537196159362793, 0.523804247379303, 0.24035657942295074, 0.9481220841407776, 0.4528692960739136, 0.14614638686180115, 0.4731658399105072, 1.471252679824829, 0.49574610590934753, 0.7245572805404663, 0.870499312877655, 0.9049867987632751, 0.10092492401599884, 0.7501245141029358, 0.23943783342838287, 0.4866199493408203, 0.6217135190963745, 0.38347598910331726, 0.7556060552597046, 0.12675821781158447, 0.5460164546966553, 0.8255782723426819, 0.9502440094947815, 0.2370864897966385, 0.3538864850997925, 0.43136584758758545, 1.3599108457565308, 0.3375173807144165, 0.3984863758087158, 1.260841727256775, 0.225868821144104, 0.08543052524328232, 0.3079228699207306, 0.9094744920730591, 0.999628484249115, 0.6577654480934143, 0.727671205997467, 0.08011636137962341, 0.18297109007835388, 1.2932838201522827, 0.38567686080932617, 1.3580739498138428, 0.9766513109207153, 1.347353219985962, 1.2076128721237183, 0.9662375450134277, 1.030239224433899, 0.7593908905982971, 1.0292749404907227, 0.3422311842441559, 0.13219775259494781, 0.9045245051383972, 0.08724981546401978, 0.2597222924232483, 0.590604841709137, 0.5310737490653992, 1.4436688423156738, 0.9189700484275818, 1.217034935951233, 1.1152690649032593, 0.7515895366668701, -0.0873076468706131, 0.848299503326416, 0.1520751416683197, 1.1201424598693848, 0.1844712644815445, 1.1878728866577148, 0.9501985311508179, 0.15600164234638214, 1.3825714588165283, 0.8177614808082581, 0.329929918050766, 1.1156501770019531, 1.5949560403823853, 0.1393299400806427, 0.5331454277038574, 0.09215754270553589, 1.381238579750061, 0.5518332719802856, 0.49921298027038574, 0.3041834831237793, 0.5548967123031616, 0.06587691605091095, 0.16380910575389862, 1.6286193132400513, 0.41906648874282837, 0.7135716676712036, 1.2322086095809937, 0.02241368405520916, 1.4055485725402832, 0.15925127267837524, 0.3643421530723572, 0.13022983074188232, 0.4375423192977905, 1.206436038017273, 1.0880316495895386, 1.148923635482788, 1.5314565896987915, 0.966395914554596, 1.463623046875, 0.8024831414222717, 0.3094572424888611, 0.5520036816596985, 0.16092140972614288, 0.4063915014266968, 0.5856974720954895, 0.7934696078300476, 0.5846492052078247, 1.1959930658340454, 0.9792003631591797, 0.31058377027511597, 0.6551265716552734, 0.4452221393585205, 0.43377456068992615, 1.1559014320373535, 0.3659873306751251, 1.0045722723007202, 1.0026713609695435, 1.6634896993637085, 0.5302907824516296, 1.5206845998764038, 0.49096444249153137, 0.7544964551925659, 1.2800503969192505, 1.0471374988555908, 0.3538082540035248, 0.07586104422807693, 0.5717692375183105, 0.17569409310817719, 0.25586649775505066, 0.7544386386871338, 0.6135417819023132, 0.3102399706840515, 0.6232030391693115, 1.2276761531829834, 0.9711305499076843, 0.23710088431835175, 0.18284308910369873, 0.20390234887599945, 0.8962231874465942, 0.7754426002502441, 0.10988446325063705, 0.7789596319198608, 0.4495629072189331, 0.9777128100395203, 0.11472779512405396, 0.6998091340065002, 1.7173023223876953, 0.2285841405391693, 0.408832848072052, 0.09237314015626907, 1.2374086380004883, 1.0932908058166504, 0.9391239285469055, 0.996712863445282, 0.24865278601646423, 1.5017633438110352, 1.1393009424209595, 0.5079374313354492, 1.0144059658050537, 0.15018010139465332, 0.37011659145355225, 0.08712896704673767, 0.3734634816646576, 0.08185019344091415, 0.11140445619821548, 0.11253753304481506, 1.1772757768630981, 0.782941460609436, 1.2581580877304077, 1.6733099222183228, 0.5537271499633789, 0.4154817461967468, -0.009412933140993118, 1.3484400510787964, 0.3409044146537781, 0.24542544782161713, 0.09917028248310089, 0.27211302518844604, 1.1298565864562988, 0.6346394419670105, 0.07266813516616821, 0.10659018903970718, 0.5218135714530945, 0.571922779083252, 0.003766907611861825, 0.5074350237846375, 0.3453993499279022, 0.8994038105010986, 0.6286791563034058, 1.0105841159820557, 0.7662475109100342, 0.23995865881443024, 0.3754146099090576, 0.05340394377708435, 1.2268797159194946, 0.2953284680843353, 0.19017133116722107, 0.7772310376167297, 1.0964100360870361, 1.494184136390686, 0.21038345992565155, 1.335715651512146, 0.1408562809228897, 0.003980141598731279, 1.1366548538208008, 0.7397939562797546, 0.10002942383289337, 0.22066280245780945, 0.08255947381258011, 0.06574589759111404, 0.910620927810669, 0.36094582080841064, 0.055744439363479614, 0.12765516340732574, 0.20098088681697845, 0.3705189824104309, 0.3437173664569855, 0.916151762008667, 0.13806036114692688, 0.49637946486473083, 0.5208611488342285, 0.11893410980701447, 0.03342641890048981, 0.312129408121109, 1.1704109907150269, 0.2980136275291443, 0.389827698469162, 1.0177130699157715, -0.06082771718502045, 0.2507639527320862, 1.4480156898498535, 0.04467090964317322, 0.6702778339385986, 0.21513724327087402, 0.18761032819747925, 0.11049763113260269, 0.5893179178237915, 1.0505375862121582, 0.4865860939025879, 0.24477557837963104, 1.0754181146621704, 1.0818182229995728, 0.047936804592609406, 0.4639040231704712, 0.397077739238739, 0.4651181101799011, 0.5580426454544067, 0.25942784547805786, 0.7421061396598816, 1.123361349105835, 0.3134444057941437, 0.3525203764438629, 1.2581580877304077, 0.5725010633468628, 0.5554555654525757, 0.9774344563484192, 0.5212115049362183, 0.1233709380030632, 0.27213913202285767, 1.192887544631958, 0.6956326365470886, 1.0304151773452759, 0.8787842392921448, 0.5140654444694519, 0.9599620699882507, 0.1308605968952179, 0.5440249443054199, 1.0806974172592163, 0.25187498331069946, 0.1678445190191269, 0.5176068544387817, 0.5172958970069885, 0.19948308169841766, 0.3935663104057312, 0.2747063934803009, 0.21361128985881805, 1.5555691719055176, 1.359320878982544, 1.359665036201477, 0.721502423286438, 1.5110163688659668, 0.3009481430053711, 1.1837762594223022, 0.614346444606781, 0.13611643016338348, 0.7592118382453918, 0.2590043842792511, 1.1286393404006958, 0.04603070393204689, 0.42253953218460083, 0.6778005957603455, 0.3756920397281647, 0.7567508816719055], \"y\": [-0.8425843119621277, -0.005425664596259594, -0.804740309715271, -0.7594175934791565, -1.4651844501495361, -0.29351064562797546, -0.2548983693122864, -0.6213474273681641, 0.041335951536893845, -1.0722310543060303, -0.17859265208244324, -0.05344173684716225, -0.3149189352989197, -0.3421509265899658, -0.34960630536079407, -1.1520743370056152, -0.8451957702636719, -0.0322878360748291, -1.2100926637649536, -1.3134069442749023, -0.8653300404548645, -0.93508380651474, 0.07698936015367508, -0.05980028584599495, -0.467242568731308, -0.2309107631444931, -0.5915684700012207, -0.01814214140176773, -0.6847562193870544, -0.08299611508846283, 0.025138135999441147, -0.18135389685630798, -0.06860736012458801, -0.8393804430961609, -0.533600389957428, -0.21247701346874237, -0.3832833468914032, -1.09307861328125, -0.7045369744300842, -0.13364583253860474, -0.13319171965122223, -0.4125898778438568, -0.08182636648416519, -0.04784547910094261, -0.5555382370948792, -0.06806737184524536, -1.198405146598816, -1.3017089366912842, -0.3688773810863495, -0.4454251527786255, -0.0933421179652214, -0.9660347700119019, -0.6955245733261108, 0.06540361791849136, -0.4307340681552887, -1.26253342628479, -0.5169591307640076, -0.5547253489494324, -0.9165804982185364, -0.8459877967834473, 0.03980204463005066, -0.6723877191543579, -0.00967771653085947, -0.43780896067619324, -0.5306251049041748, -0.2236400842666626, -0.6362940669059753, -0.2250746786594391, -0.34044596552848816, -0.7522709965705872, -0.7851583361625671, -0.23902392387390137, -0.16315288841724396, -0.2912697196006775, -1.1967483758926392, -0.2612853944301605, -0.16920089721679688, -0.9984910488128662, -0.2218915820121765, -0.0098737683147192, -0.0978926494717598, -0.7285966873168945, -0.9136029481887817, -0.5701489448547363, -0.6558871269226074, -0.13796581327915192, -0.0861440971493721, -1.5722581148147583, -0.5352607369422913, -1.2960823774337769, -0.9492037892341614, -1.2722032070159912, -1.0160109996795654, -1.1411579847335815, -1.2183066606521606, -0.559869110584259, -1.0112500190734863, -0.09650936722755432, 0.03603405877947807, -0.778025209903717, -0.11727206408977509, -0.164713516831398, -0.4819314181804657, -0.5332467555999756, -1.2234609127044678, -0.921734631061554, -1.184215784072876, -1.1090558767318726, -0.754790186882019, -0.09866762906312943, -0.8351898789405823, -0.15075570344924927, -1.106363296508789, -0.23834994435310364, -0.9535406827926636, -1.128164529800415, 0.09244845062494278, -1.1392810344696045, -0.7494372129440308, -0.11054456233978271, -0.8353874683380127, -1.5439587831497192, 0.04541958123445511, -0.4788972735404968, 0.0018440393032506108, -1.2881999015808105, -0.5515287518501282, -0.5109236836433411, -0.1999949812889099, -0.6270400285720825, 0.027258209884166718, -0.007282588630914688, -1.348462462425232, -0.41500380635261536, -0.5445771813392639, -1.2725497484207153, -0.00574740394949913, -1.381880760192871, 0.06661956012248993, -0.5038762092590332, -0.062288250774145126, -0.4073481857776642, -1.0378679037094116, -1.0453213453292847, -1.1604819297790527, -1.4521844387054443, -0.8608689904212952, -1.3431471586227417, -0.6721447706222534, -0.18655872344970703, -0.6063381433486938, 0.03341357037425041, -0.24976801872253418, -0.4872781038284302, -0.6503298878669739, -0.6552141308784485, -1.1279014348983765, -0.9748589396476746, -0.2964154779911041, -0.419925719499588, -0.2484702169895172, -0.3820902705192566, -1.1612451076507568, -0.46226638555526733, -1.1379040479660034, -1.0815221071243286, -1.5665632486343384, -0.5556917190551758, -1.587843894958496, -0.3756086528301239, -0.7582456469535828, -1.343663215637207, -0.813883900642395, -0.15815342962741852, 0.013934078626334667, -0.503617525100708, 0.06101679429411888, -0.2962377071380615, -0.5823305249214172, -1.0424494743347168, -0.08605127781629562, -0.46185532212257385, -1.0990512371063232, -0.8834276795387268, -0.08145665377378464, 0.033052533864974976, -0.12976320087909698, -0.985007107257843, -0.9025248885154724, 0.1021159365773201, -1.148188591003418, -0.26937931776046753, -0.8985930681228638, 0.04244126379489899, -0.6991432905197144, -1.4935368299484253, -0.10637687146663666, -0.26991036534309387, 0.007172845304012299, -1.2424432039260864, -0.994514524936676, -1.1104868650436401, -0.8811931014060974, -0.13061901926994324, -1.4630682468414307, -1.021914005279541, -0.3131079375743866, -0.7961337566375732, -0.06971047818660736, -0.15659840404987335, 0.03522152081131935, -0.32821837067604065, -0.0036447420716285706, 0.07791045308113098, -0.10621364414691925, -1.2202649116516113, -0.733253002166748, -1.2059004306793213, -1.4248929023742676, -0.5509136319160461, -0.4128111004829407, -0.11552901566028595, -1.3441884517669678, -0.5686383843421936, -0.057180602103471756, -0.08083103597164154, -0.23103362321853638, -1.0689733028411865, -0.5309074521064758, -0.04337345436215401, 0.06250711530447006, -0.6055691838264465, -0.40735718607902527, -0.03209211677312851, -0.49875423312187195, -0.370601087808609, -1.0743024349212646, -0.7310011386871338, -0.9434471726417542, -0.7046054005622864, -0.2559903860092163, -0.22726725041866302, -0.12585043907165527, -1.1371991634368896, -0.1262992024421692, -0.2071232795715332, -0.7360021471977234, -1.1252774000167847, -1.3633787631988525, -0.024043068289756775, -1.3595346212387085, 0.01798504777252674, -0.03507087007164955, -1.1114095449447632, -0.6451676487922668, 0.009068693034350872, -0.09685114026069641, -0.1316591501235962, 0.02456938661634922, -0.9276966452598572, -0.32741779088974, 0.04481068253517151, -0.0937199741601944, -0.2238960564136505, -0.29949498176574707, -0.10920155048370361, -0.7457255125045776, -0.08283693343400955, -0.46494680643081665, -0.462228924036026, -0.005108276382088661, 0.004790397826582193, -0.18339690566062927, -1.1561709642410278, -0.06517588347196579, -0.38563990592956543, -0.9089146852493286, -0.37918415665626526, -0.22052964568138123, -1.3036127090454102, -0.018371807411313057, -0.7977890372276306, -0.08142724633216858, -0.08332201093435287, 0.0567573681473732, -0.5430559515953064, -0.974116325378418, -0.5517902374267578, -0.218499556183815, -1.0288293361663818, -1.0128827095031738, -0.32226812839508057, -0.22940166294574738, -0.5082399249076843, -0.49483269453048706, -0.6022906303405762, -0.1169414147734642, -0.539935290813446, -1.11712646484375, -0.14513134956359863, -0.35015973448753357, -1.2059004306793213, -0.5131521821022034, -0.7510573863983154, -0.9662894010543823, -0.3826986253261566, 0.06509427726268768, -0.38991472125053406, -1.087265133857727, -0.779757022857666, -1.0428581237792969, -0.8287147283554077, -0.5118722319602966, -0.921527087688446, 0.06936747580766678, -0.45392197370529175, -1.0733275413513184, -0.2300354242324829, -0.12871399521827698, -0.42040205001831055, -0.5410149693489075, -0.022192971780896187, -0.5200774669647217, -0.10587402433156967, 0.03152196481823921, -1.678762674331665, -1.4075411558151245, -1.2902824878692627, -0.6939868927001953, -1.2364555597305298, -0.13143190741539001, -1.178600788116455, -0.6797983050346375, -0.1525753289461136, -1.0306915044784546, -0.11128833144903183, -1.168097734451294, -0.030063284561038017, -0.4484681189060211, -0.7713451981544495, -0.34813886880874634, -0.5794696807861328]}],\n",
       "                        {\"template\": {\"data\": {\"bar\": [{\"error_x\": {\"color\": \"#2a3f5f\"}, \"error_y\": {\"color\": \"#2a3f5f\"}, \"marker\": {\"line\": {\"color\": \"#E5ECF6\", \"width\": 0.5}}, \"type\": \"bar\"}], \"barpolar\": [{\"marker\": {\"line\": {\"color\": \"#E5ECF6\", \"width\": 0.5}}, \"type\": \"barpolar\"}], \"carpet\": [{\"aaxis\": {\"endlinecolor\": \"#2a3f5f\", \"gridcolor\": \"white\", \"linecolor\": \"white\", \"minorgridcolor\": \"white\", \"startlinecolor\": \"#2a3f5f\"}, \"baxis\": {\"endlinecolor\": \"#2a3f5f\", \"gridcolor\": \"white\", \"linecolor\": \"white\", \"minorgridcolor\": \"white\", \"startlinecolor\": \"#2a3f5f\"}, \"type\": \"carpet\"}], \"choropleth\": [{\"colorbar\": {\"outlinewidth\": 0, \"ticks\": \"\"}, \"type\": \"choropleth\"}], \"contour\": [{\"colorbar\": {\"outlinewidth\": 0, \"ticks\": \"\"}, \"colorscale\": [[0.0, \"#0d0887\"], [0.1111111111111111, \"#46039f\"], [0.2222222222222222, \"#7201a8\"], [0.3333333333333333, \"#9c179e\"], [0.4444444444444444, \"#bd3786\"], [0.5555555555555556, \"#d8576b\"], [0.6666666666666666, \"#ed7953\"], [0.7777777777777778, \"#fb9f3a\"], [0.8888888888888888, \"#fdca26\"], [1.0, \"#f0f921\"]], \"type\": \"contour\"}], \"contourcarpet\": [{\"colorbar\": {\"outlinewidth\": 0, \"ticks\": \"\"}, \"type\": \"contourcarpet\"}], \"heatmap\": [{\"colorbar\": {\"outlinewidth\": 0, \"ticks\": \"\"}, \"colorscale\": [[0.0, \"#0d0887\"], [0.1111111111111111, \"#46039f\"], [0.2222222222222222, \"#7201a8\"], [0.3333333333333333, \"#9c179e\"], [0.4444444444444444, \"#bd3786\"], [0.5555555555555556, \"#d8576b\"], [0.6666666666666666, \"#ed7953\"], [0.7777777777777778, \"#fb9f3a\"], [0.8888888888888888, \"#fdca26\"], [1.0, \"#f0f921\"]], \"type\": \"heatmap\"}], \"heatmapgl\": [{\"colorbar\": {\"outlinewidth\": 0, \"ticks\": \"\"}, \"colorscale\": [[0.0, \"#0d0887\"], [0.1111111111111111, \"#46039f\"], [0.2222222222222222, \"#7201a8\"], [0.3333333333333333, \"#9c179e\"], [0.4444444444444444, \"#bd3786\"], [0.5555555555555556, \"#d8576b\"], [0.6666666666666666, \"#ed7953\"], [0.7777777777777778, \"#fb9f3a\"], [0.8888888888888888, \"#fdca26\"], [1.0, \"#f0f921\"]], \"type\": \"heatmapgl\"}], \"histogram\": [{\"marker\": {\"colorbar\": {\"outlinewidth\": 0, \"ticks\": \"\"}}, \"type\": \"histogram\"}], \"histogram2d\": [{\"colorbar\": {\"outlinewidth\": 0, \"ticks\": \"\"}, \"colorscale\": [[0.0, \"#0d0887\"], [0.1111111111111111, \"#46039f\"], [0.2222222222222222, \"#7201a8\"], [0.3333333333333333, \"#9c179e\"], [0.4444444444444444, \"#bd3786\"], [0.5555555555555556, \"#d8576b\"], [0.6666666666666666, \"#ed7953\"], [0.7777777777777778, \"#fb9f3a\"], [0.8888888888888888, \"#fdca26\"], [1.0, \"#f0f921\"]], \"type\": \"histogram2d\"}], \"histogram2dcontour\": [{\"colorbar\": {\"outlinewidth\": 0, \"ticks\": \"\"}, \"colorscale\": [[0.0, \"#0d0887\"], [0.1111111111111111, \"#46039f\"], [0.2222222222222222, \"#7201a8\"], [0.3333333333333333, \"#9c179e\"], [0.4444444444444444, \"#bd3786\"], [0.5555555555555556, \"#d8576b\"], [0.6666666666666666, \"#ed7953\"], [0.7777777777777778, \"#fb9f3a\"], [0.8888888888888888, \"#fdca26\"], [1.0, \"#f0f921\"]], \"type\": \"histogram2dcontour\"}], \"mesh3d\": [{\"colorbar\": {\"outlinewidth\": 0, \"ticks\": \"\"}, \"type\": \"mesh3d\"}], \"parcoords\": [{\"line\": {\"colorbar\": {\"outlinewidth\": 0, \"ticks\": \"\"}}, \"type\": \"parcoords\"}], \"pie\": [{\"automargin\": true, \"type\": \"pie\"}], \"scatter\": [{\"marker\": {\"colorbar\": {\"outlinewidth\": 0, \"ticks\": \"\"}}, \"type\": \"scatter\"}], \"scatter3d\": [{\"line\": {\"colorbar\": {\"outlinewidth\": 0, \"ticks\": \"\"}}, \"marker\": {\"colorbar\": {\"outlinewidth\": 0, \"ticks\": \"\"}}, \"type\": \"scatter3d\"}], \"scattercarpet\": [{\"marker\": {\"colorbar\": {\"outlinewidth\": 0, \"ticks\": \"\"}}, \"type\": \"scattercarpet\"}], \"scattergeo\": [{\"marker\": {\"colorbar\": {\"outlinewidth\": 0, \"ticks\": \"\"}}, \"type\": \"scattergeo\"}], \"scattergl\": [{\"marker\": {\"colorbar\": {\"outlinewidth\": 0, \"ticks\": \"\"}}, \"type\": \"scattergl\"}], \"scattermapbox\": [{\"marker\": {\"colorbar\": {\"outlinewidth\": 0, \"ticks\": \"\"}}, \"type\": \"scattermapbox\"}], \"scatterpolar\": [{\"marker\": {\"colorbar\": {\"outlinewidth\": 0, \"ticks\": \"\"}}, \"type\": \"scatterpolar\"}], \"scatterpolargl\": [{\"marker\": {\"colorbar\": {\"outlinewidth\": 0, \"ticks\": \"\"}}, \"type\": \"scatterpolargl\"}], \"scatterternary\": [{\"marker\": {\"colorbar\": {\"outlinewidth\": 0, \"ticks\": \"\"}}, \"type\": \"scatterternary\"}], \"surface\": [{\"colorbar\": {\"outlinewidth\": 0, \"ticks\": \"\"}, \"colorscale\": [[0.0, \"#0d0887\"], [0.1111111111111111, \"#46039f\"], [0.2222222222222222, \"#7201a8\"], [0.3333333333333333, \"#9c179e\"], [0.4444444444444444, \"#bd3786\"], [0.5555555555555556, \"#d8576b\"], [0.6666666666666666, \"#ed7953\"], [0.7777777777777778, \"#fb9f3a\"], [0.8888888888888888, \"#fdca26\"], [1.0, \"#f0f921\"]], \"type\": \"surface\"}], \"table\": [{\"cells\": {\"fill\": {\"color\": \"#EBF0F8\"}, \"line\": {\"color\": \"white\"}}, \"header\": {\"fill\": {\"color\": \"#C8D4E3\"}, \"line\": {\"color\": \"white\"}}, \"type\": \"table\"}]}, \"layout\": {\"annotationdefaults\": {\"arrowcolor\": \"#2a3f5f\", \"arrowhead\": 0, \"arrowwidth\": 1}, \"coloraxis\": {\"colorbar\": {\"outlinewidth\": 0, \"ticks\": \"\"}}, \"colorscale\": {\"diverging\": [[0, \"#8e0152\"], [0.1, \"#c51b7d\"], [0.2, \"#de77ae\"], [0.3, \"#f1b6da\"], [0.4, \"#fde0ef\"], [0.5, \"#f7f7f7\"], [0.6, \"#e6f5d0\"], [0.7, \"#b8e186\"], [0.8, \"#7fbc41\"], [0.9, \"#4d9221\"], [1, \"#276419\"]], \"sequential\": [[0.0, \"#0d0887\"], [0.1111111111111111, \"#46039f\"], [0.2222222222222222, \"#7201a8\"], [0.3333333333333333, \"#9c179e\"], [0.4444444444444444, \"#bd3786\"], [0.5555555555555556, \"#d8576b\"], [0.6666666666666666, \"#ed7953\"], [0.7777777777777778, \"#fb9f3a\"], [0.8888888888888888, \"#fdca26\"], [1.0, \"#f0f921\"]], \"sequentialminus\": [[0.0, \"#0d0887\"], [0.1111111111111111, \"#46039f\"], [0.2222222222222222, \"#7201a8\"], [0.3333333333333333, \"#9c179e\"], [0.4444444444444444, \"#bd3786\"], [0.5555555555555556, \"#d8576b\"], [0.6666666666666666, \"#ed7953\"], [0.7777777777777778, \"#fb9f3a\"], [0.8888888888888888, \"#fdca26\"], [1.0, \"#f0f921\"]]}, \"colorway\": [\"#636efa\", \"#EF553B\", \"#00cc96\", \"#ab63fa\", \"#FFA15A\", \"#19d3f3\", \"#FF6692\", \"#B6E880\", \"#FF97FF\", \"#FECB52\"], \"font\": {\"color\": \"#2a3f5f\"}, \"geo\": {\"bgcolor\": \"white\", \"lakecolor\": \"white\", \"landcolor\": \"#E5ECF6\", \"showlakes\": true, \"showland\": true, \"subunitcolor\": \"white\"}, \"hoverlabel\": {\"align\": \"left\"}, \"hovermode\": \"closest\", \"mapbox\": {\"style\": \"light\"}, \"paper_bgcolor\": \"white\", \"plot_bgcolor\": \"#E5ECF6\", \"polar\": {\"angularaxis\": {\"gridcolor\": \"white\", \"linecolor\": \"white\", \"ticks\": \"\"}, \"bgcolor\": \"#E5ECF6\", \"radialaxis\": {\"gridcolor\": \"white\", \"linecolor\": \"white\", \"ticks\": \"\"}}, \"scene\": {\"xaxis\": {\"backgroundcolor\": \"#E5ECF6\", \"gridcolor\": \"white\", \"gridwidth\": 2, \"linecolor\": \"white\", \"showbackground\": true, \"ticks\": \"\", \"zerolinecolor\": \"white\"}, \"yaxis\": {\"backgroundcolor\": \"#E5ECF6\", \"gridcolor\": \"white\", \"gridwidth\": 2, \"linecolor\": \"white\", \"showbackground\": true, \"ticks\": \"\", \"zerolinecolor\": \"white\"}, \"zaxis\": {\"backgroundcolor\": \"#E5ECF6\", \"gridcolor\": \"white\", \"gridwidth\": 2, \"linecolor\": \"white\", \"showbackground\": true, \"ticks\": \"\", \"zerolinecolor\": \"white\"}}, \"shapedefaults\": {\"line\": {\"color\": \"#2a3f5f\"}}, \"ternary\": {\"aaxis\": {\"gridcolor\": \"white\", \"linecolor\": \"white\", \"ticks\": \"\"}, \"baxis\": {\"gridcolor\": \"white\", \"linecolor\": \"white\", \"ticks\": \"\"}, \"bgcolor\": \"#E5ECF6\", \"caxis\": {\"gridcolor\": \"white\", \"linecolor\": \"white\", \"ticks\": \"\"}}, \"title\": {\"x\": 0.05}, \"xaxis\": {\"automargin\": true, \"gridcolor\": \"white\", \"linecolor\": \"white\", \"ticks\": \"\", \"title\": {\"standoff\": 15}, \"zerolinecolor\": \"white\", \"zerolinewidth\": 2}, \"yaxis\": {\"automargin\": true, \"gridcolor\": \"white\", \"linecolor\": \"white\", \"ticks\": \"\", \"title\": {\"standoff\": 15}, \"zerolinecolor\": \"white\", \"zerolinewidth\": 2}}}, \"title\": {\"text\": \"Likelihood of genders for true positive (female)\"}, \"xaxis\": {\"title\": {\"text\": \"Likelihood female\"}}, \"yaxis\": {\"title\": {\"text\": \"Likelihood male\"}}},\n",
       "                        {\"responsive\": true}\n",
       "                    ).then(function(){\n",
       "                            \n",
       "var gd = document.getElementById('510a6879-5556-4fb3-9320-c22b5745f844');\n",
       "var x = new MutationObserver(function (mutations, observer) {{\n",
       "        var display = window.getComputedStyle(gd).display;\n",
       "        if (!display || display === 'none') {{\n",
       "            console.log([gd, 'removed!']);\n",
       "            Plotly.purge(gd);\n",
       "            observer.disconnect();\n",
       "        }}\n",
       "}});\n",
       "\n",
       "// Listen for the removal of the full notebook cells\n",
       "var notebookContainer = gd.closest('#notebook-container');\n",
       "if (notebookContainer) {{\n",
       "    x.observe(notebookContainer, {childList: true});\n",
       "}}\n",
       "\n",
       "// Listen for the clearing of the current output cell\n",
       "var outputEl = gd.closest('.output');\n",
       "if (outputEl) {{\n",
       "    x.observe(outputEl, {childList: true});\n",
       "}}\n",
       "\n",
       "                        })\n",
       "                };\n",
       "                \n",
       "            </script>\n",
       "        </div>\n",
       "</body>\n",
       "</html>"
      ]
     },
     "metadata": {
      "tags": []
     },
     "output_type": "display_data"
    },
    {
     "data": {
      "text/html": [
       "<html>\n",
       "<head><meta charset=\"utf-8\" /></head>\n",
       "<body>\n",
       "    <div>\n",
       "            <script src=\"https://cdnjs.cloudflare.com/ajax/libs/mathjax/2.7.5/MathJax.js?config=TeX-AMS-MML_SVG\"></script><script type=\"text/javascript\">if (window.MathJax) {MathJax.Hub.Config({SVG: {font: \"STIX-Web\"}});}</script>\n",
       "                <script type=\"text/javascript\">window.PlotlyConfig = {MathJaxConfig: 'local'};</script>\n",
       "        <script src=\"https://cdn.plot.ly/plotly-latest.min.js\"></script>    \n",
       "            <div id=\"71778673-b2b4-4fd9-998e-5f2d4e136837\" class=\"plotly-graph-div\" style=\"height:525px; width:100%;\"></div>\n",
       "            <script type=\"text/javascript\">\n",
       "                \n",
       "                    window.PLOTLYENV=window.PLOTLYENV || {};\n",
       "                    \n",
       "                if (document.getElementById(\"71778673-b2b4-4fd9-998e-5f2d4e136837\")) {\n",
       "                    Plotly.newPlot(\n",
       "                        '71778673-b2b4-4fd9-998e-5f2d4e136837',\n",
       "                        [{\"mode\": \"markers\", \"type\": \"scatter\", \"x\": [0.10597516596317291, 0.0011631491361185908, 0.5768118500709534, -0.033131811767816544, 0.20119169354438782, 0.15570403635501862, 0.1103094145655632, 0.5049378275871277, 0.5709036588668823, 0.5935415029525757, 0.5457727909088135, 0.17361608147621155, 0.21699859201908112, 0.4340008795261383, 0.4298544228076935, 0.4807271957397461, 0.48536309599876404, 0.5164239406585693, 0.051503438502550125, 0.7309128642082214, 1.0458225011825562, 0.8921003937721252, 0.42126619815826416, 0.4101109504699707, 0.6822486519813538, 0.24626454710960388, 0.21597349643707275, 0.49858319759368896, 0.1387539505958557, 0.5894707441329956, 0.3736014664173126, 0.1764737367630005, 0.9163211584091187, 0.261518657207489, 0.6255844235420227, 0.7939778566360474, 0.28627315163612366, 0.7011243104934692, 0.6123119592666626, 0.40944987535476685, 0.5858975052833557, 0.2842579483985901, 0.49093466997146606, 0.3868429958820343, 0.7867728471755981, 0.4428675174713135, 0.40738022327423096, 0.3153159022331238, 0.49644777178764343, 0.4266401529312134, 0.7838104963302612, 0.7191494107246399, 0.641795814037323, 0.7139114141464233, 0.6041017770767212, 0.7754236459732056, 0.38483771681785583, 0.16067218780517578, 0.4469694495201111, 0.3669734001159668, 0.32825011014938354, 0.6115317940711975, 0.04401018097996712, 0.787907600402832, 0.2995445132255554, 0.23161162436008453, 0.8271475434303284, 0.41601359844207764, 0.7536043524742126, 0.42429038882255554, 0.0769883245229721, 0.8158776164054871, 0.15911445021629333, 0.7061662077903748, 0.7624338865280151, 0.7613741755485535, 0.3229324221611023, 0.5046318769454956, 0.3630080223083496, 0.5784781575202942, 0.15596473217010498, 0.23811694979667664, 0.4020823836326599, 0.6218588352203369, 0.4566519856452942, 0.38657838106155396, 0.3819848299026489, 0.6289356350898743, 0.17377245426177979, 0.27840694785118103, 0.2747541069984436, 0.5088922381401062, 0.5870211124420166, 0.45586884021759033, 0.15177883207798004, 0.14363932609558105, 0.6229798793792725, 0.5278587937355042, 0.6978325247764587, 0.8777211904525757, 0.5990002155303955, 0.1146438717842102, 0.8408267498016357, 0.4516105353832245, 0.76431804895401, 0.6055784821510315, 0.37640640139579773, 0.9374366402626038, 0.6098991632461548, 0.2995894253253937, 0.9000105261802673, 0.2807548940181732, 0.7947547435760498, 0.34926360845565796, 0.4682047963142395, 0.20115132629871368, 0.33553260564804077, 0.26425251364707947, 0.582230269908905, 0.4299861192703247, 0.41008850932121277, 0.007019492331892252, 0.7167475819587708, 0.432140976190567, 0.4502609968185425, 0.38795316219329834, 0.6308912038803101, 0.7007786631584167, 0.44965264201164246, 0.5547590851783752, 0.45461490750312805, 0.4748813509941101, 0.24329616129398346, 0.28356921672821045, 0.9312722086906433, 0.24291051924228668, 0.5410934090614319, 0.32362765073776245, 0.09321141988039017, 0.8031812906265259, 0.5381001234054565, 0.4527547359466553, 0.6025283336639404, 0.2907441258430481, 0.19088594615459442, 0.9335349202156067, 0.522998571395874, 0.36387649178504944, 0.1304779201745987, 0.3459779620170593, 0.5101799964904785, 0.2580318748950958, 0.3284044861793518, 0.6402174830436707, 0.3158806562423706, 0.38385918736457825, 0.5058156251907349, 0.4429750442504883, 0.6481667757034302, 0.15567904710769653, 0.5798245668411255, 0.19677795469760895, 0.4934266209602356, 0.3501009941101074, 0.9711133241653442, 0.8988330960273743, 0.2174960821866989, 0.5162548422813416, 0.6086810231208801, 0.414720356464386, 0.31821420788764954, 0.2290487289428711, 0.14866818487644196, 0.5485506057739258, 0.348935067653656, 0.28435057401657104, 0.6472159624099731, 0.6661807894706726, 0.4749700725078583, 0.3139503002166748, 0.3502519428730011, 0.8548152446746826, 0.874183177947998, 0.5846697688102722, 0.1281454712152481, 0.13225379586219788, 0.9647384881973267, 0.5561242699623108, 0.2926257848739624, 0.17547236382961273, 0.3308671712875366, 0.4846668541431427, 0.765559732913971, 0.28157147765159607, 0.4719959497451782, 0.2871314585208893, 0.607419490814209, 0.6886662840843201, 0.45278027653694153, 0.2815679609775543, 0.4558815360069275, 0.47580647468566895, 0.7905248403549194, 0.15499189496040344, 0.021345039829611778, 0.8499225974082947, 1.4728916883468628, 0.13065044581890106, 0.41032782196998596, 0.6123373508453369, 0.5716654062271118, 0.6418076157569885, 0.582655668258667, 0.43940824270248413, 0.6583173871040344, 0.44703322649002075, 0.26762160658836365, 0.7952620387077332, 0.16772954165935516, 0.4876110553741455, 0.4094708561897278, 0.4856295585632324, 0.406085342168808, 0.33818334341049194, 0.5338947176933289, 0.12969423830509186, 0.4748982787132263, 0.4868216812610626, 0.4280177354812622, 0.9232569932937622, 0.3122844099998474, 0.3235211968421936, 0.5522440671920776, 0.09798534214496613, 0.25640803575515747, 0.950594425201416, 0.46350663900375366, 0.3687504827976227, 0.28771138191223145, 0.47168663144111633, 0.5301628708839417, 0.13614165782928467, 0.14634422957897186, 0.46573734283447266, 0.2586057186126709, 0.34830766916275024, 0.09762214869260788, 0.3800874948501587, 0.992631196975708, 0.32605260610580444, 0.23743118345737457, 0.4728034436702728, 0.31730151176452637, 0.3807973861694336, 0.29129621386528015, 0.08771807700395584, 0.7001561522483826, 0.3810529112815857, 1.3734445571899414, 0.21579481661319733, 0.12106221169233322, 0.4804146885871887, 0.46632689237594604, 0.12969423830509186, 0.14072638750076294, 0.6329002380371094, 0.8062772750854492, 0.17378635704517365, 0.19807970523834229, 0.654549241065979, 0.21214549243450165, 0.4080503582954407, 0.8027001619338989, 0.5836769342422485, 0.5148671269416809, 0.3812010586261749, 0.12091194093227386, 0.143660306930542, 0.28485631942749023, 0.12722830474376678, 0.4616377055644989, 0.27938640117645264, 0.43545830249786377, 0.3914276659488678, 0.5094733834266663, 0.4718256890773773, 0.40546947717666626, 0.46715691685676575, 0.406085342168808, 0.13158240914344788, 0.21272696554660797, 0.38840168714523315, 0.5324552655220032, 0.2939802408218384, 0.5980379581451416, 0.11980050057172775, 0.2209291309118271, 0.3331630825996399, 0.2808998227119446, 0.49128031730651855, 0.28474268317222595, 0.14621604979038239, 0.3726010322570801, 0.24741975963115692, 0.14480464160442352, 0.12358302623033524, 0.26396167278289795, 0.320319265127182, 0.6564553380012512, 0.08922294527292252, 0.25146031379699707, 0.688120424747467, 0.08235696703195572, 0.30370965600013733, 0.6834078431129456, 0.23448652029037476, 0.1141151562333107, 0.7351950407028198, 0.2660926878452301, 0.45443180203437805, 0.5877396464347839, 0.014648578129708767, 0.18898318707942963, 0.07443253695964813, 0.7419765591621399, 0.32211416959762573, 0.5657384395599365, 0.05762038379907608, 0.4085838198661804, 0.1632954329252243, 0.4392465054988861, 0.5070578455924988, 0.16772954165935516, 1.001394510269165, 0.09977083653211594, 1.004623532295227, 0.511437714099884, 0.39601245522499084, 0.15250249207019806, 0.4367811977863312, 0.6886542439460754, 0.2861018776893616, 0.49348509311676025, 0.3727925419807434, 0.37884843349456787, 0.3444143831729889, 0.5617889761924744, 0.36939528584480286, 0.7223246693611145, 0.3445941209793091, 0.8415114283561707, 0.14879123866558075, 0.5810644626617432, 0.046371251344680786, 0.5925211906433105, 0.6311689615249634, 0.4571351110935211, 1.257572054862976, 0.3977120816707611, 0.18464064598083496, 0.3416096568107605, 0.8137869834899902, 0.2814124524593353, 0.17235508561134338, 0.042204320430755615, 0.4360044300556183, 1.0160316228866577, 0.7721810936927795, 0.5552634000778198, 0.14750906825065613, 0.7677226662635803, 0.46699875593185425, 0.2434985488653183, 0.6086271405220032, 0.7106813192367554, 0.5537595152854919, 0.058208171278238297, 0.39873576164245605, 0.2622680366039276, 0.3352248966693878, 0.07487449795007706, 0.6802372336387634, 0.32277974486351013, 0.205827996134758, 0.5499776601791382, 0.7061662077903748, 0.4774966537952423, 0.8502304553985596, 0.654365599155426, 0.849882185459137, 0.7259267568588257, 0.45876699686050415, 0.37534046173095703, 0.22395245730876923, 0.6118558049201965, 0.734351634979248, 0.1428421139717102, 0.687092661857605, 0.8270801901817322, 0.46540263295173645, 0.5864322781562805, 0.3972688615322113, 0.5027536749839783, 0.6166834831237793, 0.6501603126525879, 0.25895610451698303, 0.18399678170681, 0.7491592764854431, 0.13270647823810577, 0.17883753776550293, 0.28631898760795593, 0.1398056447505951, 0.6091623902320862, -2.54215847235173e-05, 0.18391038477420807, 0.7963495254516602, 0.42131584882736206, 0.19427639245986938, 0.667594313621521, 0.5477122664451599, 0.19853860139846802, 0.7145058512687683, 0.40087857842445374, 0.27203336358070374, 0.5573828816413879, 0.6212568283081055, 0.309223473072052, 0.5782590508460999, 0.3255554437637329, 0.819131076335907, 0.3531932830810547, 1.2009154558181763, 0.4081577956676483, 0.26676836609840393, 0.2971618175506592, 0.506000816822052, 0.06597857922315598, 0.277418315410614, 0.16786402463912964, 0.44967466592788696, 0.9076115489006042, 0.9060387015342712, 0.6466984152793884, 0.348940908908844, 0.5905262231826782, 0.47305771708488464, 0.5232887864112854, 0.24733300507068634, 0.20961253345012665, 0.6734811663627625], \"y\": [0.1027718260884285, -0.19678689539432526, -0.49806034564971924, -0.06799493730068207, -0.04313196986913681, 0.012045415118336678, -0.14559191465377808, -0.5400861501693726, -0.27617067098617554, -0.4245181083679199, -0.3622440695762634, -0.07903492450714111, -0.12395192682743073, -0.3239631950855255, -0.21833258867263794, -0.2940528988838196, -0.29191794991493225, -0.3879200220108032, -0.04785381630063057, -0.5829284191131592, -0.8151593804359436, -0.7858095169067383, -0.26091161370277405, -0.2764015793800354, -0.5265309810638428, -0.01322444062680006, -0.01678701862692833, -0.39997991919517517, 0.029377968981862068, -0.3838779628276825, -0.1971389651298523, -0.0815821960568428, -0.7343702912330627, -0.11220723390579224, -0.6329761147499084, -0.6123886108398438, -0.136515811085701, -0.4226789176464081, -0.3486335575580597, -0.26132866740226746, -0.5206039547920227, -0.15048354864120483, -0.23408013582229614, -0.1630634367465973, -0.5389655232429504, -0.2187805324792862, -0.3202880620956421, -0.13762611150741577, -0.2548867166042328, -0.2346557229757309, -0.5155171751976013, -0.5278254747390747, -0.4142456352710724, -0.5658065676689148, -0.5622064471244812, -0.614412248134613, -0.2266041487455368, -0.1458384245634079, -0.28988125920295715, -0.35644859075546265, -0.21139030158519745, -0.41377419233322144, -0.21691103279590607, -0.7470544576644897, -0.15602804720401764, -0.013459590263664722, -0.7284963130950928, -0.25594133138656616, -0.7040627002716064, -0.23964090645313263, -0.11824210733175278, -0.6489142179489136, -0.11980777978897095, -0.5034363269805908, -0.5877098441123962, -0.6366245746612549, -0.26964113116264343, -0.38901200890541077, -0.17383651435375214, -0.3186894357204437, 0.007084801327437162, -0.016774876043200493, -0.17566633224487305, -0.48907211422920227, -0.43469443917274475, -0.16656699776649475, -0.2959626317024231, -0.44250330328941345, -0.23879291117191315, -0.1053580567240715, -0.17274078726768494, -0.4429253935813904, -0.5509002208709717, -0.3045879304409027, -0.057468023151159286, -0.06548371911048889, -0.4431026577949524, -0.4786442220211029, -0.4717417359352112, -0.794176459312439, -0.430400013923645, -0.053271591663360596, -0.6351683735847473, -0.20502474904060364, -0.5809789299964905, -0.3374864459037781, -0.1349124312400818, -0.7757464647293091, -0.45826244354248047, -0.2036648541688919, -0.701907753944397, -0.09721740335226059, -0.6372177004814148, -0.20003612339496613, -0.25627389550209045, -0.08910731226205826, -0.17040598392486572, -0.29063719511032104, -0.3793189227581024, -0.2086545079946518, -0.2540731132030487, -0.1681666225194931, -0.442056268453598, -0.30788177251815796, -0.2545278072357178, -0.30934640765190125, -0.4411337077617645, -0.49062806367874146, -0.3177807629108429, -0.4196721017360687, -0.38566428422927856, -0.2535056173801422, -0.1337835043668747, -0.05055579915642738, -0.7834593057632446, -0.0962262898683548, -0.37588170170783997, -0.11637960374355316, 0.024369705468416214, -0.6816225051879883, -0.48054394125938416, -0.2962326407432556, -0.3760649561882019, -0.10920672118663788, 0.029701847583055496, -0.7529829740524292, -0.43717899918556213, -0.22108866274356842, 0.07124114781618118, -0.18434682488441467, -0.3771270215511322, -0.09543461352586746, -0.19894282519817352, -0.43086475133895874, -0.2325170338153839, -0.21046611666679382, -0.41083085536956787, -0.3380228877067566, -0.3875654935836792, -0.146744042634964, -0.344376802444458, -0.09116370230913162, -0.31539463996887207, -0.2827887535095215, -0.9212785363197327, -0.7677326798439026, -0.04936913400888443, -0.2947430908679962, -0.351813405752182, -0.31961679458618164, -0.11313622444868088, -0.061639077961444855, 0.12765774130821228, -0.39400383830070496, -0.09566046297550201, -0.4132106900215149, -0.4359095096588135, -0.6195154786109924, -0.27488529682159424, -0.12393083423376083, -0.11418413370847702, -0.5875554084777832, -0.7232041954994202, -0.5109916925430298, 0.03240146487951279, -0.0627407431602478, -0.8220468759536743, -0.42988401651382446, -0.11191172152757645, -0.04394259303808212, -0.24447767436504364, -0.28721296787261963, -0.5306545495986938, -0.2472585141658783, -0.2495165914297104, -0.05591054633259773, -0.4547168016433716, -0.5525065064430237, -0.21717166900634766, -0.04497285932302475, -0.32371628284454346, -0.2516501545906067, -0.731179416179657, 0.0787276178598404, -0.04734228551387787, -0.8661101460456848, -1.3490878343582153, 0.004141724202781916, -0.2475433349609375, -0.4570782780647278, -0.37391355633735657, -0.5419079661369324, -0.3437172770500183, -0.18392407894134521, -0.4332736134529114, -0.29728835821151733, -0.1162412241101265, -0.6462960243225098, -0.04767845571041107, -0.2878018915653229, -0.2680349051952362, -0.3191256523132324, -0.26272743940353394, -0.22285401821136475, -0.3644687235355377, -0.09126724302768707, -0.23937876522541046, -0.5409613251686096, -0.19607511162757874, -0.8526616096496582, -0.18221405148506165, -0.47904279828071594, -0.3262465000152588, 0.0968976691365242, -0.0829596072435379, -0.7200173735618591, -0.2968211770057678, -0.18396446108818054, -0.24400395154953003, -0.4176797568798065, -0.44850197434425354, -0.12292174994945526, 0.04371129721403122, -0.3535088896751404, -0.08210569620132446, -0.2475435584783554, 0.029687710106372833, -0.34985044598579407, -0.7972959876060486, -0.4413173794746399, -0.05050492659211159, -0.23294346034526825, -0.15744447708129883, -0.3380906581878662, -0.12131479382514954, 0.06768385320901871, -0.5055864453315735, -0.2647824287414551, -1.2509377002716064, -0.10509923845529556, 0.039058953523635864, -0.25039541721343994, -0.3111204206943512, -0.09126724302768707, -0.04319790378212929, -0.5224869847297668, -0.6248456239700317, 0.03908199444413185, -0.055216483771800995, -0.4614173471927643, -0.22572724521160126, -0.22108148038387299, -0.5309724807739258, -0.43622004985809326, -0.23451752960681915, -0.34277886152267456, 0.04262322187423706, -0.07732731848955154, -0.07246843725442886, 0.03526506572961807, -0.32599887251853943, -0.06106142699718475, -0.2154078334569931, -0.23492981493473053, -0.4308493137359619, -0.379523903131485, -0.21357643604278564, -0.3467364013195038, -0.26272743940353394, 0.011343064717948437, 0.02357879839837551, -0.23484256863594055, -0.3205913305282593, -0.12015317380428314, -0.3737160265445709, 0.11531230062246323, -0.10044684261083603, -0.28770846128463745, -0.1128813624382019, -0.2676478624343872, -0.1975531280040741, 0.00941158551722765, -0.24257893860340118, -0.009391329251229763, -0.0560399666428566, 0.021736271679401398, -0.21848231554031372, -0.15762342512607574, -0.5125764012336731, -0.3251081705093384, -0.20469139516353607, -0.5306580662727356, -0.03119669295847416, -0.255087673664093, -0.5320417881011963, -0.03490599989891052, -0.08037441223859787, -0.5317491888999939, -0.026655666530132294, -0.39583316445350647, -0.375032514333725, -0.026395350694656372, 0.0904870480298996, 0.06790672242641449, -0.7045855522155762, -0.1282735913991928, -0.3404788076877594, -0.014249867759644985, -0.18376006186008453, -0.003823701059445739, -0.261907696723938, -0.38288262486457825, -0.04767845571041107, -0.7766668200492859, 0.02626078389585018, -0.8492915034294128, -0.2725676894187927, -0.24133844673633575, 0.02331477776169777, -0.18906603753566742, -0.5797126889228821, -0.13709698617458344, -0.39414241909980774, -0.21325770020484924, -0.2254083901643753, -0.239652618765831, -0.3276306092739105, -0.14656256139278412, -0.5626851320266724, -0.23849059641361237, -0.7254798412322998, 0.0825662761926651, -0.5212591290473938, -0.016305673867464066, -0.35767513513565063, -0.5291189551353455, -0.5115150213241577, -1.0317046642303467, -0.3667305111885071, -0.1165861114859581, -0.12360473722219467, -0.6150599718093872, -0.2273944914340973, 0.04684504121541977, -0.08734320104122162, -0.22367410361766815, -0.8704138398170471, -0.5857049822807312, -0.3656923770904541, 0.06728217005729675, -0.5405368804931641, -0.30699601769447327, -0.07408996671438217, -0.42982789874076843, -0.4832962453365326, -0.5393844842910767, 0.020477306097745895, -0.22651104629039764, -0.10360725969076157, -0.12060213834047318, -0.09628979116678238, -0.6044682860374451, -0.14708848297595978, -0.24083971977233887, -0.411514550447464, -0.5034363269805908, -0.27382341027259827, -0.6988741159439087, -0.6183179616928101, -0.6793826818466187, -0.5069792866706848, -0.2117588222026825, -0.143075630068779, -0.2170802652835846, -0.4993079602718353, -0.5190789699554443, -0.086134172976017, -0.47722578048706055, -0.5804120898246765, -0.23437950015068054, -0.3880550265312195, -0.21497742831707, -0.33860400319099426, -0.4304988980293274, -0.42100462317466736, -0.04968881234526634, -0.002645694650709629, -0.7606881856918335, -0.15804952383041382, -0.10799488425254822, -0.13618703186511993, -0.04646795243024826, -0.47136056423187256, -0.11889525502920151, -0.0894133448600769, -0.6039570569992065, -0.18350832164287567, -0.11877421289682388, -0.4308759272098541, -0.3120556175708771, -0.09421692788600922, -0.4637857675552368, -0.40281063318252563, -0.026749376207590103, -0.3349664807319641, -0.43924614787101746, -0.3444780707359314, -0.3554528057575226, -0.13420304656028748, -0.7628779411315918, -0.14520540833473206, -1.0238783359527588, -0.24319547414779663, -0.09798641502857208, -0.1271083950996399, -0.23856191337108612, 0.05048733949661255, -0.164482980966568, -0.09096767008304596, -0.27121204137802124, -0.795527458190918, -0.7788640260696411, -0.475125789642334, -0.21066886186599731, -0.3752349615097046, -0.43242672085762024, -0.37700971961021423, -0.060721445828676224, -0.1027984619140625, -0.5215910077095032]}],\n",
       "                        {\"template\": {\"data\": {\"bar\": [{\"error_x\": {\"color\": \"#2a3f5f\"}, \"error_y\": {\"color\": \"#2a3f5f\"}, \"marker\": {\"line\": {\"color\": \"#E5ECF6\", \"width\": 0.5}}, \"type\": \"bar\"}], \"barpolar\": [{\"marker\": {\"line\": {\"color\": \"#E5ECF6\", \"width\": 0.5}}, \"type\": \"barpolar\"}], \"carpet\": [{\"aaxis\": {\"endlinecolor\": \"#2a3f5f\", \"gridcolor\": \"white\", \"linecolor\": \"white\", \"minorgridcolor\": \"white\", \"startlinecolor\": \"#2a3f5f\"}, \"baxis\": {\"endlinecolor\": \"#2a3f5f\", \"gridcolor\": \"white\", \"linecolor\": \"white\", \"minorgridcolor\": \"white\", \"startlinecolor\": \"#2a3f5f\"}, \"type\": \"carpet\"}], \"choropleth\": [{\"colorbar\": {\"outlinewidth\": 0, \"ticks\": \"\"}, \"type\": \"choropleth\"}], \"contour\": [{\"colorbar\": {\"outlinewidth\": 0, \"ticks\": \"\"}, \"colorscale\": [[0.0, \"#0d0887\"], [0.1111111111111111, \"#46039f\"], [0.2222222222222222, \"#7201a8\"], [0.3333333333333333, \"#9c179e\"], [0.4444444444444444, \"#bd3786\"], [0.5555555555555556, \"#d8576b\"], [0.6666666666666666, \"#ed7953\"], [0.7777777777777778, \"#fb9f3a\"], [0.8888888888888888, \"#fdca26\"], [1.0, \"#f0f921\"]], \"type\": \"contour\"}], \"contourcarpet\": [{\"colorbar\": {\"outlinewidth\": 0, \"ticks\": \"\"}, \"type\": \"contourcarpet\"}], \"heatmap\": [{\"colorbar\": {\"outlinewidth\": 0, \"ticks\": \"\"}, \"colorscale\": [[0.0, \"#0d0887\"], [0.1111111111111111, \"#46039f\"], [0.2222222222222222, \"#7201a8\"], [0.3333333333333333, \"#9c179e\"], [0.4444444444444444, \"#bd3786\"], [0.5555555555555556, \"#d8576b\"], [0.6666666666666666, \"#ed7953\"], [0.7777777777777778, \"#fb9f3a\"], [0.8888888888888888, \"#fdca26\"], [1.0, \"#f0f921\"]], \"type\": \"heatmap\"}], \"heatmapgl\": [{\"colorbar\": {\"outlinewidth\": 0, \"ticks\": \"\"}, \"colorscale\": [[0.0, \"#0d0887\"], [0.1111111111111111, \"#46039f\"], [0.2222222222222222, \"#7201a8\"], [0.3333333333333333, \"#9c179e\"], [0.4444444444444444, \"#bd3786\"], [0.5555555555555556, \"#d8576b\"], [0.6666666666666666, \"#ed7953\"], [0.7777777777777778, \"#fb9f3a\"], [0.8888888888888888, \"#fdca26\"], [1.0, \"#f0f921\"]], \"type\": \"heatmapgl\"}], \"histogram\": [{\"marker\": {\"colorbar\": {\"outlinewidth\": 0, \"ticks\": \"\"}}, \"type\": \"histogram\"}], \"histogram2d\": [{\"colorbar\": {\"outlinewidth\": 0, \"ticks\": \"\"}, \"colorscale\": [[0.0, \"#0d0887\"], [0.1111111111111111, \"#46039f\"], [0.2222222222222222, \"#7201a8\"], [0.3333333333333333, \"#9c179e\"], [0.4444444444444444, \"#bd3786\"], [0.5555555555555556, \"#d8576b\"], [0.6666666666666666, \"#ed7953\"], [0.7777777777777778, \"#fb9f3a\"], [0.8888888888888888, \"#fdca26\"], [1.0, \"#f0f921\"]], \"type\": \"histogram2d\"}], \"histogram2dcontour\": [{\"colorbar\": {\"outlinewidth\": 0, \"ticks\": \"\"}, \"colorscale\": [[0.0, \"#0d0887\"], [0.1111111111111111, \"#46039f\"], [0.2222222222222222, \"#7201a8\"], [0.3333333333333333, \"#9c179e\"], [0.4444444444444444, \"#bd3786\"], [0.5555555555555556, \"#d8576b\"], [0.6666666666666666, \"#ed7953\"], [0.7777777777777778, \"#fb9f3a\"], [0.8888888888888888, \"#fdca26\"], [1.0, \"#f0f921\"]], \"type\": \"histogram2dcontour\"}], \"mesh3d\": [{\"colorbar\": {\"outlinewidth\": 0, \"ticks\": \"\"}, \"type\": \"mesh3d\"}], \"parcoords\": [{\"line\": {\"colorbar\": {\"outlinewidth\": 0, \"ticks\": \"\"}}, \"type\": \"parcoords\"}], \"pie\": [{\"automargin\": true, \"type\": \"pie\"}], \"scatter\": [{\"marker\": {\"colorbar\": {\"outlinewidth\": 0, \"ticks\": \"\"}}, \"type\": \"scatter\"}], \"scatter3d\": [{\"line\": {\"colorbar\": {\"outlinewidth\": 0, \"ticks\": \"\"}}, \"marker\": {\"colorbar\": {\"outlinewidth\": 0, \"ticks\": \"\"}}, \"type\": \"scatter3d\"}], \"scattercarpet\": [{\"marker\": {\"colorbar\": {\"outlinewidth\": 0, \"ticks\": \"\"}}, \"type\": \"scattercarpet\"}], \"scattergeo\": [{\"marker\": {\"colorbar\": {\"outlinewidth\": 0, \"ticks\": \"\"}}, \"type\": \"scattergeo\"}], \"scattergl\": [{\"marker\": {\"colorbar\": {\"outlinewidth\": 0, \"ticks\": \"\"}}, \"type\": \"scattergl\"}], \"scattermapbox\": [{\"marker\": {\"colorbar\": {\"outlinewidth\": 0, \"ticks\": \"\"}}, \"type\": \"scattermapbox\"}], \"scatterpolar\": [{\"marker\": {\"colorbar\": {\"outlinewidth\": 0, \"ticks\": \"\"}}, \"type\": \"scatterpolar\"}], \"scatterpolargl\": [{\"marker\": {\"colorbar\": {\"outlinewidth\": 0, \"ticks\": \"\"}}, \"type\": \"scatterpolargl\"}], \"scatterternary\": [{\"marker\": {\"colorbar\": {\"outlinewidth\": 0, \"ticks\": \"\"}}, \"type\": \"scatterternary\"}], \"surface\": [{\"colorbar\": {\"outlinewidth\": 0, \"ticks\": \"\"}, \"colorscale\": [[0.0, \"#0d0887\"], [0.1111111111111111, \"#46039f\"], [0.2222222222222222, \"#7201a8\"], [0.3333333333333333, \"#9c179e\"], [0.4444444444444444, \"#bd3786\"], [0.5555555555555556, \"#d8576b\"], [0.6666666666666666, \"#ed7953\"], [0.7777777777777778, \"#fb9f3a\"], [0.8888888888888888, \"#fdca26\"], [1.0, \"#f0f921\"]], \"type\": \"surface\"}], \"table\": [{\"cells\": {\"fill\": {\"color\": \"#EBF0F8\"}, \"line\": {\"color\": \"white\"}}, \"header\": {\"fill\": {\"color\": \"#C8D4E3\"}, \"line\": {\"color\": \"white\"}}, \"type\": \"table\"}]}, \"layout\": {\"annotationdefaults\": {\"arrowcolor\": \"#2a3f5f\", \"arrowhead\": 0, \"arrowwidth\": 1}, \"coloraxis\": {\"colorbar\": {\"outlinewidth\": 0, \"ticks\": \"\"}}, \"colorscale\": {\"diverging\": [[0, \"#8e0152\"], [0.1, \"#c51b7d\"], [0.2, \"#de77ae\"], [0.3, \"#f1b6da\"], [0.4, \"#fde0ef\"], [0.5, \"#f7f7f7\"], [0.6, \"#e6f5d0\"], [0.7, \"#b8e186\"], [0.8, \"#7fbc41\"], [0.9, \"#4d9221\"], [1, \"#276419\"]], \"sequential\": [[0.0, \"#0d0887\"], [0.1111111111111111, \"#46039f\"], [0.2222222222222222, \"#7201a8\"], [0.3333333333333333, \"#9c179e\"], [0.4444444444444444, \"#bd3786\"], [0.5555555555555556, \"#d8576b\"], [0.6666666666666666, \"#ed7953\"], [0.7777777777777778, \"#fb9f3a\"], [0.8888888888888888, \"#fdca26\"], [1.0, \"#f0f921\"]], \"sequentialminus\": [[0.0, \"#0d0887\"], [0.1111111111111111, \"#46039f\"], [0.2222222222222222, \"#7201a8\"], [0.3333333333333333, \"#9c179e\"], [0.4444444444444444, \"#bd3786\"], [0.5555555555555556, \"#d8576b\"], [0.6666666666666666, \"#ed7953\"], [0.7777777777777778, \"#fb9f3a\"], [0.8888888888888888, \"#fdca26\"], [1.0, \"#f0f921\"]]}, \"colorway\": [\"#636efa\", \"#EF553B\", \"#00cc96\", \"#ab63fa\", \"#FFA15A\", \"#19d3f3\", \"#FF6692\", \"#B6E880\", \"#FF97FF\", \"#FECB52\"], \"font\": {\"color\": \"#2a3f5f\"}, \"geo\": {\"bgcolor\": \"white\", \"lakecolor\": \"white\", \"landcolor\": \"#E5ECF6\", \"showlakes\": true, \"showland\": true, \"subunitcolor\": \"white\"}, \"hoverlabel\": {\"align\": \"left\"}, \"hovermode\": \"closest\", \"mapbox\": {\"style\": \"light\"}, \"paper_bgcolor\": \"white\", \"plot_bgcolor\": \"#E5ECF6\", \"polar\": {\"angularaxis\": {\"gridcolor\": \"white\", \"linecolor\": \"white\", \"ticks\": \"\"}, \"bgcolor\": \"#E5ECF6\", \"radialaxis\": {\"gridcolor\": \"white\", \"linecolor\": \"white\", \"ticks\": \"\"}}, \"scene\": {\"xaxis\": {\"backgroundcolor\": \"#E5ECF6\", \"gridcolor\": \"white\", \"gridwidth\": 2, \"linecolor\": \"white\", \"showbackground\": true, \"ticks\": \"\", \"zerolinecolor\": \"white\"}, \"yaxis\": {\"backgroundcolor\": \"#E5ECF6\", \"gridcolor\": \"white\", \"gridwidth\": 2, \"linecolor\": \"white\", \"showbackground\": true, \"ticks\": \"\", \"zerolinecolor\": \"white\"}, \"zaxis\": {\"backgroundcolor\": \"#E5ECF6\", \"gridcolor\": \"white\", \"gridwidth\": 2, \"linecolor\": \"white\", \"showbackground\": true, \"ticks\": \"\", \"zerolinecolor\": \"white\"}}, \"shapedefaults\": {\"line\": {\"color\": \"#2a3f5f\"}}, \"ternary\": {\"aaxis\": {\"gridcolor\": \"white\", \"linecolor\": \"white\", \"ticks\": \"\"}, \"baxis\": {\"gridcolor\": \"white\", \"linecolor\": \"white\", \"ticks\": \"\"}, \"bgcolor\": \"#E5ECF6\", \"caxis\": {\"gridcolor\": \"white\", \"linecolor\": \"white\", \"ticks\": \"\"}}, \"title\": {\"x\": 0.05}, \"xaxis\": {\"automargin\": true, \"gridcolor\": \"white\", \"linecolor\": \"white\", \"ticks\": \"\", \"title\": {\"standoff\": 15}, \"zerolinecolor\": \"white\", \"zerolinewidth\": 2}, \"yaxis\": {\"automargin\": true, \"gridcolor\": \"white\", \"linecolor\": \"white\", \"ticks\": \"\", \"title\": {\"standoff\": 15}, \"zerolinecolor\": \"white\", \"zerolinewidth\": 2}}}, \"title\": {\"text\": \"Likelihood of genders for true negative (male)\"}, \"xaxis\": {\"title\": {\"text\": \"Likelihood male\"}}, \"yaxis\": {\"title\": {\"text\": \"Likelihood female\"}}},\n",
       "                        {\"responsive\": true}\n",
       "                    ).then(function(){\n",
       "                            \n",
       "var gd = document.getElementById('71778673-b2b4-4fd9-998e-5f2d4e136837');\n",
       "var x = new MutationObserver(function (mutations, observer) {{\n",
       "        var display = window.getComputedStyle(gd).display;\n",
       "        if (!display || display === 'none') {{\n",
       "            console.log([gd, 'removed!']);\n",
       "            Plotly.purge(gd);\n",
       "            observer.disconnect();\n",
       "        }}\n",
       "}});\n",
       "\n",
       "// Listen for the removal of the full notebook cells\n",
       "var notebookContainer = gd.closest('#notebook-container');\n",
       "if (notebookContainer) {{\n",
       "    x.observe(notebookContainer, {childList: true});\n",
       "}}\n",
       "\n",
       "// Listen for the clearing of the current output cell\n",
       "var outputEl = gd.closest('.output');\n",
       "if (outputEl) {{\n",
       "    x.observe(outputEl, {childList: true});\n",
       "}}\n",
       "\n",
       "                        })\n",
       "                };\n",
       "                \n",
       "            </script>\n",
       "        </div>\n",
       "</body>\n",
       "</html>"
      ]
     },
     "metadata": {
      "tags": []
     },
     "output_type": "display_data"
    }
   ],
   "source": [
    "import plotly.graph_objects as go\r\n",
    "\r\n",
    "unzipped_object = zip(*correct_female_pred)\r\n",
    "unzipped_list = list(unzipped_object)\r\n",
    "\r\n",
    "fig = go.Figure(data=go.Scatter(x=unzipped_list[1],\r\n",
    "                                y=unzipped_list[0],\r\n",
    "                                mode='markers'))\r\n",
    "\r\n",
    "fig.update_layout(title='Likelihood of genders for true positive (female)',\r\n",
    "                  xaxis_title=\"Likelihood female\",\r\n",
    "                  yaxis_title=\"Likelihood male\")\r\n",
    "fig.show()\r\n",
    "\r\n",
    "unzipped_object = zip(*correct_male_pred)\r\n",
    "unzipped_list = list(unzipped_object)\r\n",
    "\r\n",
    "fig = go.Figure(data=go.Scatter(x=unzipped_list[0],\r\n",
    "                                y=unzipped_list[1],\r\n",
    "                                mode='markers'))\r\n",
    "\r\n",
    "fig.update_layout(title='Likelihood of genders for true negative (male)',\r\n",
    "                  xaxis_title=\"Likelihood male\",\r\n",
    "                  yaxis_title=\"Likelihood female\")\r\n",
    "fig.show()"
   ]
  },
  {
   "cell_type": "code",
   "execution_count": 86,
   "metadata": {
    "colab": {
     "base_uri": "https://localhost:8080/",
     "height": 453
    },
    "id": "na30j2T8QTd5",
    "outputId": "d890595b-cb3a-46fc-9100-caf651d781a6"
   },
   "outputs": [
    {
     "name": "stdout",
     "output_type": "stream",
     "text": [
      "Number of test sentences: 1,600\n",
      "\n"
     ]
    },
    {
     "name": "stderr",
     "output_type": "stream",
     "text": [
      "/usr/local/lib/python3.6/dist-packages/transformers/tokenization_utils_base.py:2022: FutureWarning:\n",
      "\n",
      "The `pad_to_max_length` argument is deprecated and will be removed in a future version, use `padding=True` or `padding='longest'` to pad to the longest sequence in the batch, or use `padding='max_length'` to pad to a max length. In this case, you can give a specific length with `max_length` (e.g. `max_length=45`) or leave max_length to None to pad to the maximal input size of the model (e.g. 512 for Bert).\n",
      "\n"
     ]
    },
    {
     "name": "stdout",
     "output_type": "stream",
     "text": [
      "Predicting labels for 1,600 test sentences...\n",
      "    DONE.\n",
      "Total F1: 0.458\n",
      "Accuracy: 0.49\n"
     ]
    },
    {
     "data": {
      "image/png": "[encoded data removed]",
      "text/plain": [
       "<Figure size 432x288 with 2 Axes>"
      ]
     },
     "metadata": {
      "needs_background": "light",
      "tags": []
     },
     "output_type": "display_data"
    }
   ],
   "source": [
    "#combining test data\r\n",
    "\r\n",
    "accuracies = []\r\n",
    "\r\n",
    "df = test_data\r\n",
    "\r\n",
    "df = df.sample(frac=1)\r\n",
    "print('Number of test sentences: {:,}\\n'.format(df.shape[0]))\r\n",
    "\r\n",
    "comments = df.comment.values\r\n",
    "labels = df.female_binary.values\r\n",
    "\r\n",
    "# Tokenize all of the sentences and map the tokens to thier word IDs.\r\n",
    "input_ids = []\r\n",
    "attention_masks = []\r\n",
    "\r\n",
    "# For every sentence...\r\n",
    "for cmt in comments:\r\n",
    "    # `encode_plus` will:\r\n",
    "    #   (1) Tokenize the sentence.\r\n",
    "    #   (2) Prepend the `[CLS]` token to the start.\r\n",
    "    #   (3) Append the `[SEP]` token to the end.\r\n",
    "    #   (4) Map tokens to their IDs.\r\n",
    "    #   (5) Pad or truncate the sentence to `max_length`\r\n",
    "    #   (6) Create attention masks for [PAD] tokens.\r\n",
    "    encoded_dict = tokenizer.encode_plus(\r\n",
    "                        cmt,                      # Sentence to encode.\r\n",
    "                        add_special_tokens = True, # Add '[CLS]' and '[SEP]'\r\n",
    "                        max_length = 250,           # Pad & truncate all sentences.\r\n",
    "                        pad_to_max_length = True,\r\n",
    "                        return_attention_mask = True,   # Construct attn. masks.\r\n",
    "                        return_tensors = 'pt',     # Return pytorch tensors.\r\n",
    "                  )\r\n",
    "      \r\n",
    "    # Add the encoded sentence to the list.    \r\n",
    "    input_ids.append(encoded_dict['input_ids'])\r\n",
    "      \r\n",
    "    # And its attention mask (simply differentiates padding from non-padding).\r\n",
    "    attention_masks.append(encoded_dict['attention_mask'])\r\n",
    "\r\n",
    "# Convert the lists into tensors.\r\n",
    "input_ids = torch.cat(input_ids, dim=0)\r\n",
    "attention_masks = torch.cat(attention_masks, dim=0)\r\n",
    "labels = torch.tensor(labels)\r\n",
    "\r\n",
    "# Set the batch size.  \r\n",
    "batch_size = 8\r\n",
    "\r\n",
    "# Create the DataLoader.\r\n",
    "prediction_data = TensorDataset(input_ids, attention_masks, labels)\r\n",
    "prediction_sampler = SequentialSampler(prediction_data)\r\n",
    "prediction_dataloader = DataLoader(prediction_data, sampler=prediction_sampler, batch_size=batch_size)\r\n",
    "\r\n",
    "# Prediction on test set\r\n",
    "\r\n",
    "print('Predicting labels for {:,} test sentences...'.format(len(input_ids)))\r\n",
    "\r\n",
    "# Put model in evaluation mode\r\n",
    "model.eval()\r\n",
    "\r\n",
    "# Tracking variables \r\n",
    "predictions , true_labels = [], []\r\n",
    "\r\n",
    "# Predict \r\n",
    "for batch in prediction_dataloader:\r\n",
    "  # Add batch to GPU\r\n",
    "  batch = tuple(t.to(device) for t in batch)\r\n",
    "    \r\n",
    "# Unpack the inputs from our dataloader\r\n",
    "  b_input_ids, b_input_mask, b_labels = batch\r\n",
    "    \r\n",
    "  # Telling the model not to compute or store gradients, saving memory and \r\n",
    "  # speeding up prediction\r\n",
    "  with torch.no_grad():\r\n",
    "      # Forward pass, calculate logit predictions\r\n",
    "      outputs = model(b_input_ids, token_type_ids=None, \r\n",
    "                        attention_mask=b_input_mask)\r\n",
    "\r\n",
    "  logits = outputs[0]\r\n",
    "\r\n",
    "  # Move logits and labels to CPU\r\n",
    "  logits = logits.detach().cpu().numpy()\r\n",
    "  label_ids = b_labels.to('cpu').numpy()\r\n",
    "    \r\n",
    "  # Store predictions and true labels\r\n",
    "  predictions.append(logits)\r\n",
    "  true_labels.append(label_ids)\r\n",
    "\r\n",
    "print('    DONE.')\r\n",
    "\r\n",
    "from sklearn.metrics import f1_score, confusion_matrix, accuracy_score\r\n",
    "import seaborn as sns\r\n",
    "import matplotlib.pyplot as plt\r\n",
    "  \r\n",
    "# Combine the results across all batches. \r\n",
    "flat_pred = np.concatenate(predictions, axis=0)\r\n",
    "# For each sample, pick the label (0 or 1) with the higher score.\r\n",
    "flat_predictions = np.argmax(flat_pred, axis=1).flatten()\r\n",
    "\r\n",
    "# Combine the correct labels for each batch into a single list.\r\n",
    "flat_true_labels = np.concatenate(true_labels, axis=0)\r\n",
    "\r\n",
    "f1 = f1_score(flat_true_labels, flat_predictions)\r\n",
    "print('Total F1: %.3f' % f1)\r\n",
    "acc = accuracy_score(flat_true_labels,flat_predictions)\r\n",
    "print('Accuracy: %.2f' % acc)\r\n",
    "accuracies.append(acc)\r\n",
    "\r\n",
    "cf_matrix = confusion_matrix(flat_true_labels, flat_predictions)\r\n",
    "group_names = ['True Neg','False Pos','False Neg','True Pos']\r\n",
    "group_counts = ['{0:0.0f}'.format(value) for value in\r\n",
    "                cf_matrix.flatten()]\r\n",
    "group_percentages = ['{0:.2%}'.format(value) for value in\r\n",
    "                  cf_matrix.flatten()/np.sum(cf_matrix)]\r\n",
    "labels = [f'{v1}\\n{v2}\\n{v3}' for v1, v2, v3 in\r\n",
    "          zip(group_names,group_counts,group_percentages)]\r\n",
    "try:\r\n",
    "  labels = np.asarray(labels).reshape(2,2)\r\n",
    "  sns.heatmap(cf_matrix, annot=labels, fmt='', cmap='Blues')\r\n",
    "  plt.show()\r\n",
    "except ValueError:\r\n",
    "  print(\"could not display\")\r\n"
   ]
  },
  {
   "cell_type": "code",
   "execution_count": 87,
   "metadata": {
    "id": "AL1kTPSXfWTt"
   },
   "outputs": [],
   "source": [
    "def squad_pos_forward_func(inputs, token_type_ids=None, position_ids=None, attention_mask=None, position=0):\r\n",
    "    pred = predict(inputs,\r\n",
    "                   token_type_ids=token_type_ids,\r\n",
    "                   position_ids=position_ids,\r\n",
    "                   attention_mask=attention_mask)\r\n",
    "    pred = pred[position]\r\n",
    "    return pred.max(1).values"
   ]
  },
  {
   "cell_type": "code",
   "execution_count": 88,
   "metadata": {
    "id": "_qIA58q7UlVK"
   },
   "outputs": [],
   "source": [
    "lig = LayerIntegratedGradients(squad_pos_forward_func, model.bert.embeddings)"
   ]
  },
  {
   "cell_type": "code",
   "execution_count": 89,
   "metadata": {
    "id": "uQzd5l3RN-4y"
   },
   "outputs": [],
   "source": [
    "#forward function that supports sigmoid\r\n",
    "def forward_with_sigmoid(input):\r\n",
    "    return torch.sigmoid(model(input))"
   ]
  },
  {
   "cell_type": "code",
   "execution_count": 90,
   "metadata": {
    "id": "N_vbr83OhhHI"
   },
   "outputs": [],
   "source": [
    "#A helper function to perform forward pass of the model and make predictions\r\n",
    "def predict(inputs, token_type_ids=None, position_ids=None, attention_mask=None):\r\n",
    "    return model(inputs, token_type_ids=token_type_ids,\r\n",
    "                position_ids=position_ids, attention_mask=attention_mask, )"
   ]
  },
  {
   "cell_type": "code",
   "execution_count": 91,
   "metadata": {
    "id": "l7KeD3QWP6xh"
   },
   "outputs": [],
   "source": [
    "# accumulate couple samples in this array for visualization purposes\r\n",
    "vis_data_records_ig = []\r\n",
    "\r\n",
    "def interpret_sentence(model, sentence, min_len = 20, label = 0):\r\n",
    "    text = [tok.text for tok in nlp.tokenizer(sentence)]\r\n",
    "    text = [word.strip(' ') for word in text]\r\n",
    "    while '' in text:\r\n",
    "      text.remove('')\r\n",
    "    if len(text) < min_len:\r\n",
    "        text += ['pad'] * (min_len - len(text))\r\n",
    "    else:\r\n",
    "      text = text[:min_len]\r\n",
    "    print(text)\r\n",
    "    indexed = [TEXT.vocab.stoi[t] for t in text]\r\n",
    "\r\n",
    "    model.zero_grad()\r\n",
    "\r\n",
    "    input_indices = torch.tensor(indexed, device=device)\r\n",
    "    input_indices = input_indices.unsqueeze(0)\r\n",
    "    \r\n",
    "    # input_indices dim: [sequence_length]\r\n",
    "    seq_length = min_len\r\n",
    "    #seq_length = len(text)\r\n",
    "\r\n",
    "    # predict\r\n",
    "    #pred = forward_with_sigmoid(input_indices).item()\r\n",
    "    pred = predict(input_indices)\r\n",
    "    print(pred)\r\n",
    "    logits = pred[0]\r\n",
    "\r\n",
    "    # Move logits to CPU\r\n",
    "    logits = logits.detach().cpu().numpy()\r\n",
    "      \r\n",
    "    # Store predictions\r\n",
    "    predictions = [logits]\r\n",
    "\r\n",
    "    # Combine the results across all batches. \r\n",
    "    flat_pred = np.concatenate(predictions, axis=0)\r\n",
    "    # For each sample, pick the label (0 or 1) with the higher score.\r\n",
    "    flat_predictions = np.argmax(flat_pred, axis=1).flatten()\r\n",
    "    pred_ind = flat_predictions[0]\r\n",
    "    prob = np.amax(flat_pred)\r\n",
    "\r\n",
    "    # generate reference indices for each sample\r\n",
    "    reference_indices = token_reference.generate_reference(seq_length, device=device).unsqueeze(0)\r\n",
    "\r\n",
    "    # compute attributions and approximation delta using layer integrated gradients\r\n",
    "    attributions_ig, delta = lig.attribute(input_indices, reference_indices, \\\r\n",
    "                                           n_steps=500, return_convergence_delta=True)\r\n",
    "    \r\n",
    "    # swapping labels to correspond to vocab\r\n",
    "    if label == 0:\r\n",
    "      label = 1\r\n",
    "    else:\r\n",
    "      label = 0\r\n",
    "    if pred_ind == 0:\r\n",
    "      pred_ind = 1\r\n",
    "    else:\r\n",
    "      pred_ind = 0\r\n",
    "\r\n",
    "    print('pred: ', Label.vocab.itos[pred_ind], '(', '%.2f'%prob, ')', ', delta: ', abs(delta),'\\n')\r\n",
    "    add_attributions_to_visualizer(attributions_ig, text, prob, pred_ind, label, delta, vis_data_records_ig)\r\n",
    "    \r\n",
    "def add_attributions_to_visualizer(attributions, text, pred, pred_ind, label, delta, vis_data_records):\r\n",
    "    attributions = attributions.sum(dim=2).squeeze(0)\r\n",
    "    attributions = attributions / torch.norm(attributions)\r\n",
    "    attributions = attributions.cpu().detach().numpy()\r\n",
    "\r\n",
    "    # storing couple samples in an array for visualization purposes\r\n",
    "    vis_data_records.append(visualization.VisualizationDataRecord(\r\n",
    "                            attributions,\r\n",
    "                            pred,\r\n",
    "                            Label.vocab.itos[pred_ind],\r\n",
    "                            Label.vocab.itos[label],\r\n",
    "                            Label.vocab.itos[0],\r\n",
    "                            attributions.sum(),       \r\n",
    "                            text,\r\n",
    "                            delta))"
   ]
  },
  {
   "cell_type": "code",
   "execution_count": 96,
   "metadata": {
    "colab": {
     "base_uri": "https://localhost:8080/"
    },
    "id": "c1g6ipzJQCJ_",
    "outputId": "a46954a2-101e-4818-e46d-788f2bea4a8f"
   },
   "outputs": [
    {
     "name": "stdout",
     "output_type": "stream",
     "text": [
      "['eat', 'shit', 'get', 'rid', 'of', 'goofs', 'you', 'queers', 'pad', 'pad', 'pad', 'pad', 'pad', 'pad', 'pad', 'pad', 'pad', 'pad', 'pad', 'pad']\n",
      "(tensor([[-0.3403, -0.0673]], device='cuda:0', grad_fn=<AddmmBackward>),)\n",
      "pred:  female ( -0.07 ) , delta:  tensor([0.], device='cuda:0', dtype=torch.float64) \n",
      "\n",
      "['Jumping', 'the', 'Homeless', 'Could', 'Cartman', 'jumping', 'the', 'homeless', 'be', 'a', 'reference', 'to', 'the', 'term', 'Jumping', 'the', 'Shark', 'I', 'mean', 'the']\n",
      "(tensor([[-0.3374, -0.0770]], device='cuda:0', grad_fn=<AddmmBackward>),)\n",
      "pred:  female ( -0.08 ) , delta:  tensor([1.0449e-06], device='cuda:0', dtype=torch.float64) \n",
      "\n",
      "['U', 'r', 'a', 'batty', 'U', 'r', 'a', 'batty', 'boy', 'Leave', 'me', 'alone', 'i', 'm', 'not', 'a', 'vandal', 'u', 'twat', 'pad']\n",
      "(tensor([[-0.3213, -0.0531]], device='cuda:0', grad_fn=<AddmmBackward>),)\n",
      "pred:  female ( -0.05 ) , delta:  tensor([3.2502e-08], device='cuda:0', dtype=torch.float64) \n",
      "\n",
      "['your', 'right', 'bro', 'your', 'so', 'rightnot', 'i', 'hate', 'you', 'block', 'me', 'you', 'fagplease', 'pad', 'pad', 'pad', 'pad', 'pad', 'pad', 'pad']\n",
      "(tensor([[-0.3407, -0.0602]], device='cuda:0', grad_fn=<AddmmBackward>),)\n",
      "pred:  female ( -0.06 ) , delta:  tensor([1.8457e-07], device='cuda:0', dtype=torch.float64) \n",
      "\n",
      "['hi', 'you', 'are', 'a', 'stupid', 'ugly', 'l0seryour', 'mom', 'was', 'a', 'cheap', 'wh0re', 'who', 'would', 'fock', 'anything', 'that', 'walksfock', 'you', 'you']\n",
      "(tensor([[-0.3351, -0.0668]], device='cuda:0', grad_fn=<AddmmBackward>),)\n",
      "pred:  female ( -0.07 ) , delta:  tensor([2.5406e-07], device='cuda:0', dtype=torch.float64) \n",
      "\n",
      "['Oi', 'Wankstain', 'Fuck', 'off', 'you', 'ignorant', 'cunt', 'yeah', 'Revert', 'this', 'you', 'arsewipe', 'REVERT', 'ME', 'LOLOLOLOL', 'pad', 'pad', 'pad', 'pad', 'pad']\n",
      "(tensor([[-0.3403, -0.0673]], device='cuda:0', grad_fn=<AddmmBackward>),)\n",
      "pred:  female ( -0.07 ) , delta:  tensor([0.], device='cuda:0', dtype=torch.float64) \n",
      "\n",
      "['Gay', 'ass', 'william', 'at', 'it', 'again', 'small', 'penis', 'fagbag', 'hahahahahahahah', 'pad', 'pad', 'pad', 'pad', 'pad', 'pad', 'pad', 'pad', 'pad', 'pad']\n",
      "(tensor([[-0.3403, -0.0673]], device='cuda:0', grad_fn=<AddmmBackward>),)\n",
      "pred:  female ( -0.07 ) , delta:  tensor([0.], device='cuda:0', dtype=torch.float64) \n",
      "\n",
      "['I', 'get', 'why', 'you', 'edited', 'Pen', 'Island', 'Because', 'your', 'name', 'is', 'DICK', 'pad', 'pad', 'pad', 'pad', 'pad', 'pad', 'pad', 'pad']\n",
      "(tensor([[-0.3365, -0.0582]], device='cuda:0', grad_fn=<AddmmBackward>),)\n",
      "pred:  female ( -0.06 ) , delta:  tensor([4.3823e-07], device='cuda:0', dtype=torch.float64) \n",
      "\n",
      "['his', 'is', 'a', 'weast', 'of', 'time', 'so', 'fuck', 'yal', 'pad', 'pad', 'pad', 'pad', 'pad', 'pad', 'pad', 'pad', 'pad', 'pad', 'pad']\n",
      "(tensor([[-0.3372, -0.0647]], device='cuda:0', grad_fn=<AddmmBackward>),)\n",
      "pred:  female ( -0.06 ) , delta:  tensor([4.1683e-07], device='cuda:0', dtype=torch.float64) \n",
      "\n",
      "['Just', 'to', 'let', 'you', 'know', 'Just', 'to', 'let', 'you', 'know', 'anyone', 'can', 'give', 'you', 'a', 'warning', 'is', 'not', 'a', 'admin']\n",
      "(tensor([[-0.3418, -0.0642]], device='cuda:0', grad_fn=<AddmmBackward>),)\n",
      "pred:  female ( -0.06 ) , delta:  tensor([3.4812e-08], device='cuda:0', dtype=torch.float64) \n",
      "\n"
     ]
    }
   ],
   "source": [
    "# interpret_sentence(model, 'It was a fantastic performance !', label=1)\r\n",
    "\r\n",
    "vis_data_records_ig = []\r\n",
    "\r\n",
    "import string\r\n",
    "\r\n",
    "df = test_data\r\n",
    "\r\n",
    "df = df.sample(frac=1)\r\n",
    "\r\n",
    "df['comment'] = df['comment'].str.translate(str.maketrans('', '', string.punctuation))\r\n",
    "df['comment'] = df['comment'].replace('\\n',' ', regex=True)\r\n",
    "\r\n",
    "comments = df.comment.values\r\n",
    "labels = df.female_binary.values\r\n",
    "\r\n",
    "for i in range(10):\r\n",
    "  interpret_sentence(model,comments[i],label=labels[i])"
   ]
  },
  {
   "cell_type": "code",
   "execution_count": 97,
   "metadata": {
    "colab": {
     "base_uri": "https://localhost:8080/",
     "height": 371
    },
    "id": "W_qfyqCuQGMj",
    "outputId": "f6670575-7d3f-4b83-ddc5-3156fa9fbd8b"
   },
   "outputs": [
    {
     "name": "stdout",
     "output_type": "stream",
     "text": [
      "Visualize attributions based on Integrated Gradients\n"
     ]
    },
    {
     "data": {
      "text/html": [
       "<table width: 100%><div style=\"border-top: 1px solid; margin-top: 5px;             padding-top: 5px; display: inline-block\"><b>Legend: </b><span style=\"display: inline-block; width: 10px; height: 10px;                 border: 1px solid; background-color:                 hsl(0, 75%, 60%)\"></span> Negative  <span style=\"display: inline-block; width: 10px; height: 10px;                 border: 1px solid; background-color:                 hsl(0, 75%, 100%)\"></span> Neutral  <span style=\"display: inline-block; width: 10px; height: 10px;                 border: 1px solid; background-color:                 hsl(120, 75%, 50%)\"></span> Positive  </div><tr><th>True Label</th><th>Predicted Label</th><th>Attribution Label</th><th>Attribution Score</th><th>Word Importance</th><tr><td><text style=\"padding-right:2em\"><b>male</b></text></td><td><text style=\"padding-right:2em\"><b>female (-0.07)</b></text></td><td><text style=\"padding-right:2em\"><b>female</b></text></td><td><text style=\"padding-right:2em\"><b>nan</b></text></td><td><mark style=\"background-color: hsl(120, 75%, 50%); opacity:1.0;                     line-height:1.75\"><font color=\"black\"> eat                    </font></mark><mark style=\"background-color: hsl(120, 75%, 50%); opacity:1.0;                     line-height:1.75\"><font color=\"black\"> shit                    </font></mark><mark style=\"background-color: hsl(120, 75%, 50%); opacity:1.0;                     line-height:1.75\"><font color=\"black\"> get                    </font></mark><mark style=\"background-color: hsl(120, 75%, 50%); opacity:1.0;                     line-height:1.75\"><font color=\"black\"> rid                    </font></mark><mark style=\"background-color: hsl(120, 75%, 50%); opacity:1.0;                     line-height:1.75\"><font color=\"black\"> of                    </font></mark><mark style=\"background-color: hsl(120, 75%, 50%); opacity:1.0;                     line-height:1.75\"><font color=\"black\"> goofs                    </font></mark><mark style=\"background-color: hsl(120, 75%, 50%); opacity:1.0;                     line-height:1.75\"><font color=\"black\"> you                    </font></mark><mark style=\"background-color: hsl(120, 75%, 50%); opacity:1.0;                     line-height:1.75\"><font color=\"black\"> queers                    </font></mark><mark style=\"background-color: hsl(120, 75%, 50%); opacity:1.0;                     line-height:1.75\"><font color=\"black\"> pad                    </font></mark><mark style=\"background-color: hsl(120, 75%, 50%); opacity:1.0;                     line-height:1.75\"><font color=\"black\"> pad                    </font></mark><mark style=\"background-color: hsl(120, 75%, 50%); opacity:1.0;                     line-height:1.75\"><font color=\"black\"> pad                    </font></mark><mark style=\"background-color: hsl(120, 75%, 50%); opacity:1.0;                     line-height:1.75\"><font color=\"black\"> pad                    </font></mark><mark style=\"background-color: hsl(120, 75%, 50%); opacity:1.0;                     line-height:1.75\"><font color=\"black\"> pad                    </font></mark><mark style=\"background-color: hsl(120, 75%, 50%); opacity:1.0;                     line-height:1.75\"><font color=\"black\"> pad                    </font></mark><mark style=\"background-color: hsl(120, 75%, 50%); opacity:1.0;                     line-height:1.75\"><font color=\"black\"> pad                    </font></mark><mark style=\"background-color: hsl(120, 75%, 50%); opacity:1.0;                     line-height:1.75\"><font color=\"black\"> pad                    </font></mark><mark style=\"background-color: hsl(120, 75%, 50%); opacity:1.0;                     line-height:1.75\"><font color=\"black\"> pad                    </font></mark><mark style=\"background-color: hsl(120, 75%, 50%); opacity:1.0;                     line-height:1.75\"><font color=\"black\"> pad                    </font></mark><mark style=\"background-color: hsl(120, 75%, 50%); opacity:1.0;                     line-height:1.75\"><font color=\"black\"> pad                    </font></mark><mark style=\"background-color: hsl(120, 75%, 50%); opacity:1.0;                     line-height:1.75\"><font color=\"black\"> pad                    </font></mark></td><tr><tr><td><text style=\"padding-right:2em\"><b>female</b></text></td><td><text style=\"padding-right:2em\"><b>female (-0.08)</b></text></td><td><text style=\"padding-right:2em\"><b>female</b></text></td><td><text style=\"padding-right:2em\"><b>-1.24</b></text></td><td><mark style=\"background-color: hsl(0, 75%, 100%); opacity:1.0;                     line-height:1.75\"><font color=\"black\"> Jumping                    </font></mark><mark style=\"background-color: hsl(0, 75%, 100%); opacity:1.0;                     line-height:1.75\"><font color=\"black\"> the                    </font></mark><mark style=\"background-color: hsl(0, 75%, 100%); opacity:1.0;                     line-height:1.75\"><font color=\"black\"> Homeless                    </font></mark><mark style=\"background-color: hsl(0, 75%, 100%); opacity:1.0;                     line-height:1.75\"><font color=\"black\"> Could                    </font></mark><mark style=\"background-color: hsl(0, 75%, 100%); opacity:1.0;                     line-height:1.75\"><font color=\"black\"> Cartman                    </font></mark><mark style=\"background-color: hsl(0, 75%, 100%); opacity:1.0;                     line-height:1.75\"><font color=\"black\"> jumping                    </font></mark><mark style=\"background-color: hsl(0, 75%, 100%); opacity:1.0;                     line-height:1.75\"><font color=\"black\"> the                    </font></mark><mark style=\"background-color: hsl(0, 75%, 100%); opacity:1.0;                     line-height:1.75\"><font color=\"black\"> homeless                    </font></mark><mark style=\"background-color: hsl(0, 75%, 100%); opacity:1.0;                     line-height:1.75\"><font color=\"black\"> be                    </font></mark><mark style=\"background-color: hsl(0, 75%, 89%); opacity:1.0;                     line-height:1.75\"><font color=\"black\"> a                    </font></mark><mark style=\"background-color: hsl(0, 75%, 100%); opacity:1.0;                     line-height:1.75\"><font color=\"black\"> reference                    </font></mark><mark style=\"background-color: hsl(0, 75%, 100%); opacity:1.0;                     line-height:1.75\"><font color=\"black\"> to                    </font></mark><mark style=\"background-color: hsl(0, 75%, 100%); opacity:1.0;                     line-height:1.75\"><font color=\"black\"> the                    </font></mark><mark style=\"background-color: hsl(0, 75%, 100%); opacity:1.0;                     line-height:1.75\"><font color=\"black\"> term                    </font></mark><mark style=\"background-color: hsl(0, 75%, 100%); opacity:1.0;                     line-height:1.75\"><font color=\"black\"> Jumping                    </font></mark><mark style=\"background-color: hsl(0, 75%, 100%); opacity:1.0;                     line-height:1.75\"><font color=\"black\"> the                    </font></mark><mark style=\"background-color: hsl(0, 75%, 100%); opacity:1.0;                     line-height:1.75\"><font color=\"black\"> Shark                    </font></mark><mark style=\"background-color: hsl(0, 75%, 62%); opacity:1.0;                     line-height:1.75\"><font color=\"black\"> I                    </font></mark><mark style=\"background-color: hsl(0, 75%, 100%); opacity:1.0;                     line-height:1.75\"><font color=\"black\"> mean                    </font></mark><mark style=\"background-color: hsl(0, 75%, 100%); opacity:1.0;                     line-height:1.75\"><font color=\"black\"> the                    </font></mark></td><tr><tr><td><text style=\"padding-right:2em\"><b>male</b></text></td><td><text style=\"padding-right:2em\"><b>female (-0.05)</b></text></td><td><text style=\"padding-right:2em\"><b>female</b></text></td><td><text style=\"padding-right:2em\"><b>0.59</b></text></td><td><mark style=\"background-color: hsl(120, 75%, 70%); opacity:1.0;                     line-height:1.75\"><font color=\"black\"> U                    </font></mark><mark style=\"background-color: hsl(0, 75%, 93%); opacity:1.0;                     line-height:1.75\"><font color=\"black\"> r                    </font></mark><mark style=\"background-color: hsl(120, 75%, 94%); opacity:1.0;                     line-height:1.75\"><font color=\"black\"> a                    </font></mark><mark style=\"background-color: hsl(0, 75%, 100%); opacity:1.0;                     line-height:1.75\"><font color=\"black\"> batty                    </font></mark><mark style=\"background-color: hsl(0, 75%, 97%); opacity:1.0;                     line-height:1.75\"><font color=\"black\"> U                    </font></mark><mark style=\"background-color: hsl(0, 75%, 78%); opacity:1.0;                     line-height:1.75\"><font color=\"black\"> r                    </font></mark><mark style=\"background-color: hsl(120, 75%, 99%); opacity:1.0;                     line-height:1.75\"><font color=\"black\"> a                    </font></mark><mark style=\"background-color: hsl(0, 75%, 100%); opacity:1.0;                     line-height:1.75\"><font color=\"black\"> batty                    </font></mark><mark style=\"background-color: hsl(0, 75%, 100%); opacity:1.0;                     line-height:1.75\"><font color=\"black\"> boy                    </font></mark><mark style=\"background-color: hsl(0, 75%, 100%); opacity:1.0;                     line-height:1.75\"><font color=\"black\"> Leave                    </font></mark><mark style=\"background-color: hsl(0, 75%, 100%); opacity:1.0;                     line-height:1.75\"><font color=\"black\"> me                    </font></mark><mark style=\"background-color: hsl(0, 75%, 100%); opacity:1.0;                     line-height:1.75\"><font color=\"black\"> alone                    </font></mark><mark style=\"background-color: hsl(120, 75%, 89%); opacity:1.0;                     line-height:1.75\"><font color=\"black\"> i                    </font></mark><mark style=\"background-color: hsl(0, 75%, 99%); opacity:1.0;                     line-height:1.75\"><font color=\"black\"> m                    </font></mark><mark style=\"background-color: hsl(0, 75%, 100%); opacity:1.0;                     line-height:1.75\"><font color=\"black\"> not                    </font></mark><mark style=\"background-color: hsl(120, 75%, 98%); opacity:1.0;                     line-height:1.75\"><font color=\"black\"> a                    </font></mark><mark style=\"background-color: hsl(0, 75%, 100%); opacity:1.0;                     line-height:1.75\"><font color=\"black\"> vandal                    </font></mark><mark style=\"background-color: hsl(120, 75%, 79%); opacity:1.0;                     line-height:1.75\"><font color=\"black\"> u                    </font></mark><mark style=\"background-color: hsl(0, 75%, 100%); opacity:1.0;                     line-height:1.75\"><font color=\"black\"> twat                    </font></mark><mark style=\"background-color: hsl(0, 75%, 100%); opacity:1.0;                     line-height:1.75\"><font color=\"black\"> pad                    </font></mark></td><tr><tr><td><text style=\"padding-right:2em\"><b>female</b></text></td><td><text style=\"padding-right:2em\"><b>female (-0.06)</b></text></td><td><text style=\"padding-right:2em\"><b>female</b></text></td><td><text style=\"padding-right:2em\"><b>1.00</b></text></td><td><mark style=\"background-color: hsl(0, 75%, 100%); opacity:1.0;                     line-height:1.75\"><font color=\"black\"> your                    </font></mark><mark style=\"background-color: hsl(0, 75%, 100%); opacity:1.0;                     line-height:1.75\"><font color=\"black\"> right                    </font></mark><mark style=\"background-color: hsl(0, 75%, 100%); opacity:1.0;                     line-height:1.75\"><font color=\"black\"> bro                    </font></mark><mark style=\"background-color: hsl(0, 75%, 100%); opacity:1.0;                     line-height:1.75\"><font color=\"black\"> your                    </font></mark><mark style=\"background-color: hsl(0, 75%, 100%); opacity:1.0;                     line-height:1.75\"><font color=\"black\"> so                    </font></mark><mark style=\"background-color: hsl(0, 75%, 100%); opacity:1.0;                     line-height:1.75\"><font color=\"black\"> rightnot                    </font></mark><mark style=\"background-color: hsl(120, 75%, 50%); opacity:1.0;                     line-height:1.75\"><font color=\"black\"> i                    </font></mark><mark style=\"background-color: hsl(0, 75%, 100%); opacity:1.0;                     line-height:1.75\"><font color=\"black\"> hate                    </font></mark><mark style=\"background-color: hsl(0, 75%, 100%); opacity:1.0;                     line-height:1.75\"><font color=\"black\"> you                    </font></mark><mark style=\"background-color: hsl(0, 75%, 100%); opacity:1.0;                     line-height:1.75\"><font color=\"black\"> block                    </font></mark><mark style=\"background-color: hsl(0, 75%, 100%); opacity:1.0;                     line-height:1.75\"><font color=\"black\"> me                    </font></mark><mark style=\"background-color: hsl(0, 75%, 100%); opacity:1.0;                     line-height:1.75\"><font color=\"black\"> you                    </font></mark><mark style=\"background-color: hsl(0, 75%, 100%); opacity:1.0;                     line-height:1.75\"><font color=\"black\"> fagplease                    </font></mark><mark style=\"background-color: hsl(0, 75%, 100%); opacity:1.0;                     line-height:1.75\"><font color=\"black\"> pad                    </font></mark><mark style=\"background-color: hsl(0, 75%, 100%); opacity:1.0;                     line-height:1.75\"><font color=\"black\"> pad                    </font></mark><mark style=\"background-color: hsl(0, 75%, 100%); opacity:1.0;                     line-height:1.75\"><font color=\"black\"> pad                    </font></mark><mark style=\"background-color: hsl(0, 75%, 100%); opacity:1.0;                     line-height:1.75\"><font color=\"black\"> pad                    </font></mark><mark style=\"background-color: hsl(0, 75%, 100%); opacity:1.0;                     line-height:1.75\"><font color=\"black\"> pad                    </font></mark><mark style=\"background-color: hsl(0, 75%, 100%); opacity:1.0;                     line-height:1.75\"><font color=\"black\"> pad                    </font></mark><mark style=\"background-color: hsl(0, 75%, 100%); opacity:1.0;                     line-height:1.75\"><font color=\"black\"> pad                    </font></mark></td><tr><tr><td><text style=\"padding-right:2em\"><b>female</b></text></td><td><text style=\"padding-right:2em\"><b>female (-0.07)</b></text></td><td><text style=\"padding-right:2em\"><b>female</b></text></td><td><text style=\"padding-right:2em\"><b>0.16</b></text></td><td><mark style=\"background-color: hsl(0, 75%, 100%); opacity:1.0;                     line-height:1.75\"><font color=\"black\"> hi                    </font></mark><mark style=\"background-color: hsl(0, 75%, 100%); opacity:1.0;                     line-height:1.75\"><font color=\"black\"> you                    </font></mark><mark style=\"background-color: hsl(0, 75%, 100%); opacity:1.0;                     line-height:1.75\"><font color=\"black\"> are                    </font></mark><mark style=\"background-color: hsl(120, 75%, 61%); opacity:1.0;                     line-height:1.75\"><font color=\"black\"> a                    </font></mark><mark style=\"background-color: hsl(0, 75%, 100%); opacity:1.0;                     line-height:1.75\"><font color=\"black\"> stupid                    </font></mark><mark style=\"background-color: hsl(0, 75%, 100%); opacity:1.0;                     line-height:1.75\"><font color=\"black\"> ugly                    </font></mark><mark style=\"background-color: hsl(0, 75%, 100%); opacity:1.0;                     line-height:1.75\"><font color=\"black\"> l0seryour                    </font></mark><mark style=\"background-color: hsl(0, 75%, 100%); opacity:1.0;                     line-height:1.75\"><font color=\"black\"> mom                    </font></mark><mark style=\"background-color: hsl(0, 75%, 100%); opacity:1.0;                     line-height:1.75\"><font color=\"black\"> was                    </font></mark><mark style=\"background-color: hsl(0, 75%, 76%); opacity:1.0;                     line-height:1.75\"><font color=\"black\"> a                    </font></mark><mark style=\"background-color: hsl(0, 75%, 100%); opacity:1.0;                     line-height:1.75\"><font color=\"black\"> cheap                    </font></mark><mark style=\"background-color: hsl(0, 75%, 100%); opacity:1.0;                     line-height:1.75\"><font color=\"black\"> wh0re                    </font></mark><mark style=\"background-color: hsl(0, 75%, 100%); opacity:1.0;                     line-height:1.75\"><font color=\"black\"> who                    </font></mark><mark style=\"background-color: hsl(0, 75%, 100%); opacity:1.0;                     line-height:1.75\"><font color=\"black\"> would                    </font></mark><mark style=\"background-color: hsl(0, 75%, 100%); opacity:1.0;                     line-height:1.75\"><font color=\"black\"> fock                    </font></mark><mark style=\"background-color: hsl(0, 75%, 100%); opacity:1.0;                     line-height:1.75\"><font color=\"black\"> anything                    </font></mark><mark style=\"background-color: hsl(0, 75%, 100%); opacity:1.0;                     line-height:1.75\"><font color=\"black\"> that                    </font></mark><mark style=\"background-color: hsl(0, 75%, 100%); opacity:1.0;                     line-height:1.75\"><font color=\"black\"> walksfock                    </font></mark><mark style=\"background-color: hsl(0, 75%, 100%); opacity:1.0;                     line-height:1.75\"><font color=\"black\"> you                    </font></mark><mark style=\"background-color: hsl(0, 75%, 100%); opacity:1.0;                     line-height:1.75\"><font color=\"black\"> you                    </font></mark></td><tr><tr><td><text style=\"padding-right:2em\"><b>male</b></text></td><td><text style=\"padding-right:2em\"><b>female (-0.07)</b></text></td><td><text style=\"padding-right:2em\"><b>female</b></text></td><td><text style=\"padding-right:2em\"><b>nan</b></text></td><td><mark style=\"background-color: hsl(120, 75%, 50%); opacity:1.0;                     line-height:1.75\"><font color=\"black\"> Oi                    </font></mark><mark style=\"background-color: hsl(120, 75%, 50%); opacity:1.0;                     line-height:1.75\"><font color=\"black\"> Wankstain                    </font></mark><mark style=\"background-color: hsl(120, 75%, 50%); opacity:1.0;                     line-height:1.75\"><font color=\"black\"> Fuck                    </font></mark><mark style=\"background-color: hsl(120, 75%, 50%); opacity:1.0;                     line-height:1.75\"><font color=\"black\"> off                    </font></mark><mark style=\"background-color: hsl(120, 75%, 50%); opacity:1.0;                     line-height:1.75\"><font color=\"black\"> you                    </font></mark><mark style=\"background-color: hsl(120, 75%, 50%); opacity:1.0;                     line-height:1.75\"><font color=\"black\"> ignorant                    </font></mark><mark style=\"background-color: hsl(120, 75%, 50%); opacity:1.0;                     line-height:1.75\"><font color=\"black\"> cunt                    </font></mark><mark style=\"background-color: hsl(120, 75%, 50%); opacity:1.0;                     line-height:1.75\"><font color=\"black\"> yeah                    </font></mark><mark style=\"background-color: hsl(120, 75%, 50%); opacity:1.0;                     line-height:1.75\"><font color=\"black\"> Revert                    </font></mark><mark style=\"background-color: hsl(120, 75%, 50%); opacity:1.0;                     line-height:1.75\"><font color=\"black\"> this                    </font></mark><mark style=\"background-color: hsl(120, 75%, 50%); opacity:1.0;                     line-height:1.75\"><font color=\"black\"> you                    </font></mark><mark style=\"background-color: hsl(120, 75%, 50%); opacity:1.0;                     line-height:1.75\"><font color=\"black\"> arsewipe                    </font></mark><mark style=\"background-color: hsl(120, 75%, 50%); opacity:1.0;                     line-height:1.75\"><font color=\"black\"> REVERT                    </font></mark><mark style=\"background-color: hsl(120, 75%, 50%); opacity:1.0;                     line-height:1.75\"><font color=\"black\"> ME                    </font></mark><mark style=\"background-color: hsl(120, 75%, 50%); opacity:1.0;                     line-height:1.75\"><font color=\"black\"> LOLOLOLOL                    </font></mark><mark style=\"background-color: hsl(120, 75%, 50%); opacity:1.0;                     line-height:1.75\"><font color=\"black\"> pad                    </font></mark><mark style=\"background-color: hsl(120, 75%, 50%); opacity:1.0;                     line-height:1.75\"><font color=\"black\"> pad                    </font></mark><mark style=\"background-color: hsl(120, 75%, 50%); opacity:1.0;                     line-height:1.75\"><font color=\"black\"> pad                    </font></mark><mark style=\"background-color: hsl(120, 75%, 50%); opacity:1.0;                     line-height:1.75\"><font color=\"black\"> pad                    </font></mark><mark style=\"background-color: hsl(120, 75%, 50%); opacity:1.0;                     line-height:1.75\"><font color=\"black\"> pad                    </font></mark></td><tr><tr><td><text style=\"padding-right:2em\"><b>female</b></text></td><td><text style=\"padding-right:2em\"><b>female (-0.07)</b></text></td><td><text style=\"padding-right:2em\"><b>female</b></text></td><td><text style=\"padding-right:2em\"><b>nan</b></text></td><td><mark style=\"background-color: hsl(120, 75%, 50%); opacity:1.0;                     line-height:1.75\"><font color=\"black\"> Gay                    </font></mark><mark style=\"background-color: hsl(120, 75%, 50%); opacity:1.0;                     line-height:1.75\"><font color=\"black\"> ass                    </font></mark><mark style=\"background-color: hsl(120, 75%, 50%); opacity:1.0;                     line-height:1.75\"><font color=\"black\"> william                    </font></mark><mark style=\"background-color: hsl(120, 75%, 50%); opacity:1.0;                     line-height:1.75\"><font color=\"black\"> at                    </font></mark><mark style=\"background-color: hsl(120, 75%, 50%); opacity:1.0;                     line-height:1.75\"><font color=\"black\"> it                    </font></mark><mark style=\"background-color: hsl(120, 75%, 50%); opacity:1.0;                     line-height:1.75\"><font color=\"black\"> again                    </font></mark><mark style=\"background-color: hsl(120, 75%, 50%); opacity:1.0;                     line-height:1.75\"><font color=\"black\"> small                    </font></mark><mark style=\"background-color: hsl(120, 75%, 50%); opacity:1.0;                     line-height:1.75\"><font color=\"black\"> penis                    </font></mark><mark style=\"background-color: hsl(120, 75%, 50%); opacity:1.0;                     line-height:1.75\"><font color=\"black\"> fagbag                    </font></mark><mark style=\"background-color: hsl(120, 75%, 50%); opacity:1.0;                     line-height:1.75\"><font color=\"black\"> hahahahahahahah                    </font></mark><mark style=\"background-color: hsl(120, 75%, 50%); opacity:1.0;                     line-height:1.75\"><font color=\"black\"> pad                    </font></mark><mark style=\"background-color: hsl(120, 75%, 50%); opacity:1.0;                     line-height:1.75\"><font color=\"black\"> pad                    </font></mark><mark style=\"background-color: hsl(120, 75%, 50%); opacity:1.0;                     line-height:1.75\"><font color=\"black\"> pad                    </font></mark><mark style=\"background-color: hsl(120, 75%, 50%); opacity:1.0;                     line-height:1.75\"><font color=\"black\"> pad                    </font></mark><mark style=\"background-color: hsl(120, 75%, 50%); opacity:1.0;                     line-height:1.75\"><font color=\"black\"> pad                    </font></mark><mark style=\"background-color: hsl(120, 75%, 50%); opacity:1.0;                     line-height:1.75\"><font color=\"black\"> pad                    </font></mark><mark style=\"background-color: hsl(120, 75%, 50%); opacity:1.0;                     line-height:1.75\"><font color=\"black\"> pad                    </font></mark><mark style=\"background-color: hsl(120, 75%, 50%); opacity:1.0;                     line-height:1.75\"><font color=\"black\"> pad                    </font></mark><mark style=\"background-color: hsl(120, 75%, 50%); opacity:1.0;                     line-height:1.75\"><font color=\"black\"> pad                    </font></mark><mark style=\"background-color: hsl(120, 75%, 50%); opacity:1.0;                     line-height:1.75\"><font color=\"black\"> pad                    </font></mark></td><tr><tr><td><text style=\"padding-right:2em\"><b>female</b></text></td><td><text style=\"padding-right:2em\"><b>female (-0.06)</b></text></td><td><text style=\"padding-right:2em\"><b>female</b></text></td><td><text style=\"padding-right:2em\"><b>1.00</b></text></td><td><mark style=\"background-color: hsl(120, 75%, 50%); opacity:1.0;                     line-height:1.75\"><font color=\"black\"> I                    </font></mark><mark style=\"background-color: hsl(0, 75%, 100%); opacity:1.0;                     line-height:1.75\"><font color=\"black\"> get                    </font></mark><mark style=\"background-color: hsl(0, 75%, 100%); opacity:1.0;                     line-height:1.75\"><font color=\"black\"> why                    </font></mark><mark style=\"background-color: hsl(0, 75%, 100%); opacity:1.0;                     line-height:1.75\"><font color=\"black\"> you                    </font></mark><mark style=\"background-color: hsl(0, 75%, 100%); opacity:1.0;                     line-height:1.75\"><font color=\"black\"> edited                    </font></mark><mark style=\"background-color: hsl(0, 75%, 100%); opacity:1.0;                     line-height:1.75\"><font color=\"black\"> Pen                    </font></mark><mark style=\"background-color: hsl(0, 75%, 100%); opacity:1.0;                     line-height:1.75\"><font color=\"black\"> Island                    </font></mark><mark style=\"background-color: hsl(0, 75%, 100%); opacity:1.0;                     line-height:1.75\"><font color=\"black\"> Because                    </font></mark><mark style=\"background-color: hsl(0, 75%, 100%); opacity:1.0;                     line-height:1.75\"><font color=\"black\"> your                    </font></mark><mark style=\"background-color: hsl(0, 75%, 100%); opacity:1.0;                     line-height:1.75\"><font color=\"black\"> name                    </font></mark><mark style=\"background-color: hsl(0, 75%, 100%); opacity:1.0;                     line-height:1.75\"><font color=\"black\"> is                    </font></mark><mark style=\"background-color: hsl(0, 75%, 100%); opacity:1.0;                     line-height:1.75\"><font color=\"black\"> DICK                    </font></mark><mark style=\"background-color: hsl(0, 75%, 100%); opacity:1.0;                     line-height:1.75\"><font color=\"black\"> pad                    </font></mark><mark style=\"background-color: hsl(0, 75%, 100%); opacity:1.0;                     line-height:1.75\"><font color=\"black\"> pad                    </font></mark><mark style=\"background-color: hsl(0, 75%, 100%); opacity:1.0;                     line-height:1.75\"><font color=\"black\"> pad                    </font></mark><mark style=\"background-color: hsl(0, 75%, 100%); opacity:1.0;                     line-height:1.75\"><font color=\"black\"> pad                    </font></mark><mark style=\"background-color: hsl(0, 75%, 100%); opacity:1.0;                     line-height:1.75\"><font color=\"black\"> pad                    </font></mark><mark style=\"background-color: hsl(0, 75%, 100%); opacity:1.0;                     line-height:1.75\"><font color=\"black\"> pad                    </font></mark><mark style=\"background-color: hsl(0, 75%, 100%); opacity:1.0;                     line-height:1.75\"><font color=\"black\"> pad                    </font></mark><mark style=\"background-color: hsl(0, 75%, 100%); opacity:1.0;                     line-height:1.75\"><font color=\"black\"> pad                    </font></mark></td><tr><tr><td><text style=\"padding-right:2em\"><b>female</b></text></td><td><text style=\"padding-right:2em\"><b>female (-0.06)</b></text></td><td><text style=\"padding-right:2em\"><b>female</b></text></td><td><text style=\"padding-right:2em\"><b>1.00</b></text></td><td><mark style=\"background-color: hsl(0, 75%, 100%); opacity:1.0;                     line-height:1.75\"><font color=\"black\"> his                    </font></mark><mark style=\"background-color: hsl(0, 75%, 100%); opacity:1.0;                     line-height:1.75\"><font color=\"black\"> is                    </font></mark><mark style=\"background-color: hsl(120, 75%, 50%); opacity:1.0;                     line-height:1.75\"><font color=\"black\"> a                    </font></mark><mark style=\"background-color: hsl(0, 75%, 100%); opacity:1.0;                     line-height:1.75\"><font color=\"black\"> weast                    </font></mark><mark style=\"background-color: hsl(0, 75%, 100%); opacity:1.0;                     line-height:1.75\"><font color=\"black\"> of                    </font></mark><mark style=\"background-color: hsl(0, 75%, 100%); opacity:1.0;                     line-height:1.75\"><font color=\"black\"> time                    </font></mark><mark style=\"background-color: hsl(0, 75%, 100%); opacity:1.0;                     line-height:1.75\"><font color=\"black\"> so                    </font></mark><mark style=\"background-color: hsl(0, 75%, 100%); opacity:1.0;                     line-height:1.75\"><font color=\"black\"> fuck                    </font></mark><mark style=\"background-color: hsl(0, 75%, 100%); opacity:1.0;                     line-height:1.75\"><font color=\"black\"> yal                    </font></mark><mark style=\"background-color: hsl(0, 75%, 100%); opacity:1.0;                     line-height:1.75\"><font color=\"black\"> pad                    </font></mark><mark style=\"background-color: hsl(0, 75%, 100%); opacity:1.0;                     line-height:1.75\"><font color=\"black\"> pad                    </font></mark><mark style=\"background-color: hsl(0, 75%, 100%); opacity:1.0;                     line-height:1.75\"><font color=\"black\"> pad                    </font></mark><mark style=\"background-color: hsl(0, 75%, 100%); opacity:1.0;                     line-height:1.75\"><font color=\"black\"> pad                    </font></mark><mark style=\"background-color: hsl(0, 75%, 100%); opacity:1.0;                     line-height:1.75\"><font color=\"black\"> pad                    </font></mark><mark style=\"background-color: hsl(0, 75%, 100%); opacity:1.0;                     line-height:1.75\"><font color=\"black\"> pad                    </font></mark><mark style=\"background-color: hsl(0, 75%, 100%); opacity:1.0;                     line-height:1.75\"><font color=\"black\"> pad                    </font></mark><mark style=\"background-color: hsl(0, 75%, 100%); opacity:1.0;                     line-height:1.75\"><font color=\"black\"> pad                    </font></mark><mark style=\"background-color: hsl(0, 75%, 100%); opacity:1.0;                     line-height:1.75\"><font color=\"black\"> pad                    </font></mark><mark style=\"background-color: hsl(0, 75%, 100%); opacity:1.0;                     line-height:1.75\"><font color=\"black\"> pad                    </font></mark><mark style=\"background-color: hsl(0, 75%, 100%); opacity:1.0;                     line-height:1.75\"><font color=\"black\"> pad                    </font></mark></td><tr><tr><td><text style=\"padding-right:2em\"><b>male</b></text></td><td><text style=\"padding-right:2em\"><b>female (-0.06)</b></text></td><td><text style=\"padding-right:2em\"><b>female</b></text></td><td><text style=\"padding-right:2em\"><b>1.36</b></text></td><td><mark style=\"background-color: hsl(0, 75%, 100%); opacity:1.0;                     line-height:1.75\"><font color=\"black\"> Just                    </font></mark><mark style=\"background-color: hsl(0, 75%, 100%); opacity:1.0;                     line-height:1.75\"><font color=\"black\"> to                    </font></mark><mark style=\"background-color: hsl(0, 75%, 100%); opacity:1.0;                     line-height:1.75\"><font color=\"black\"> let                    </font></mark><mark style=\"background-color: hsl(0, 75%, 100%); opacity:1.0;                     line-height:1.75\"><font color=\"black\"> you                    </font></mark><mark style=\"background-color: hsl(0, 75%, 100%); opacity:1.0;                     line-height:1.75\"><font color=\"black\"> know                    </font></mark><mark style=\"background-color: hsl(0, 75%, 100%); opacity:1.0;                     line-height:1.75\"><font color=\"black\"> Just                    </font></mark><mark style=\"background-color: hsl(0, 75%, 100%); opacity:1.0;                     line-height:1.75\"><font color=\"black\"> to                    </font></mark><mark style=\"background-color: hsl(0, 75%, 100%); opacity:1.0;                     line-height:1.75\"><font color=\"black\"> let                    </font></mark><mark style=\"background-color: hsl(0, 75%, 100%); opacity:1.0;                     line-height:1.75\"><font color=\"black\"> you                    </font></mark><mark style=\"background-color: hsl(0, 75%, 100%); opacity:1.0;                     line-height:1.75\"><font color=\"black\"> know                    </font></mark><mark style=\"background-color: hsl(0, 75%, 100%); opacity:1.0;                     line-height:1.75\"><font color=\"black\"> anyone                    </font></mark><mark style=\"background-color: hsl(0, 75%, 100%); opacity:1.0;                     line-height:1.75\"><font color=\"black\"> can                    </font></mark><mark style=\"background-color: hsl(0, 75%, 100%); opacity:1.0;                     line-height:1.75\"><font color=\"black\"> give                    </font></mark><mark style=\"background-color: hsl(0, 75%, 100%); opacity:1.0;                     line-height:1.75\"><font color=\"black\"> you                    </font></mark><mark style=\"background-color: hsl(120, 75%, 76%); opacity:1.0;                     line-height:1.75\"><font color=\"black\"> a                    </font></mark><mark style=\"background-color: hsl(0, 75%, 100%); opacity:1.0;                     line-height:1.75\"><font color=\"black\"> warning                    </font></mark><mark style=\"background-color: hsl(0, 75%, 100%); opacity:1.0;                     line-height:1.75\"><font color=\"black\"> is                    </font></mark><mark style=\"background-color: hsl(0, 75%, 100%); opacity:1.0;                     line-height:1.75\"><font color=\"black\"> not                    </font></mark><mark style=\"background-color: hsl(120, 75%, 57%); opacity:1.0;                     line-height:1.75\"><font color=\"black\"> a                    </font></mark><mark style=\"background-color: hsl(0, 75%, 100%); opacity:1.0;                     line-height:1.75\"><font color=\"black\"> admin                    </font></mark></td><tr></table>"
      ],
      "text/plain": [
       "<IPython.core.display.HTML object>"
      ]
     },
     "metadata": {
      "tags": []
     },
     "output_type": "display_data"
    }
   ],
   "source": [
    "print('Visualize attributions based on Integrated Gradients')\r\n",
    "html=visualization.visualize_text(vis_data_records_ig)"
   ]
  }
 ],
 "metadata": {
  "accelerator": "GPU",
  "colab": {
   "collapsed_sections": [],
   "name": "Toxic_BERT_Gradients.ipynb",
   "provenance": []
  },
  "kernelspec": {
   "display_name": "Python 3",
   "language": "python",
   "name": "python3"
  },
  "language_info": {
   "codemirror_mode": {
    "name": "ipython",
    "version": 3
   },
   "file_extension": ".py",
   "mimetype": "text/x-python",
   "name": "python",
   "nbconvert_exporter": "python",
   "pygments_lexer": "ipython3",
   "version": "3.8.3"
  }
 },
 "nbformat": 4,
 "nbformat_minor": 4
}
