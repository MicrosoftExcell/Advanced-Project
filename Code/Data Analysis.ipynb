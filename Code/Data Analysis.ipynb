{
 "cells": [
  {
   "cell_type": "code",
   "execution_count": 31,
   "metadata": {},
   "outputs": [],
   "source": [
    "# import modules\n",
    "import pandas as pd\n",
    "#!conda install -y plotly\n",
    "import plotly.express as px"
   ]
  },
  {
   "cell_type": "code",
   "execution_count": 32,
   "metadata": {},
   "outputs": [],
   "source": [
    "# read files\n",
    "toxicity_comments = pd.read_csv('/mnt/d/Advanced Project/toxicity_annotated_comments.tsv', sep = '\\t', index_col = 0)\n",
    "toxicity_annotations = pd.read_csv('/mnt/d/Advanced Project/toxicity_annotations.tsv',  sep = '\\t')\n",
    "toxicity_demographics = pd.read_csv('/mnt/d/Advanced Project/toxicity_worker_demographics.tsv', sep = '\\t')\n",
    "attack_comments = pd.read_csv('/mnt/d/Advanced Project/attack_annotated_comments.tsv', sep = '\\t', index_col = 0)\n",
    "attack_annotations = pd.read_csv('/mnt/d/Advanced Project/attack_annotations.tsv',  sep = '\\t')\n",
    "attack_demographics = pd.read_csv('/mnt/d/Advanced Project/attack_worker_demographics.tsv', sep = '\\t')\n",
    "aggression_comments = pd.read_csv('/mnt/d/Advanced Project/aggression_annotated_comments.tsv', sep = '\\t', index_col = 0)\n",
    "aggression_annotations = pd.read_csv('/mnt/d/Advanced Project/aggression_annotations.tsv',  sep = '\\t')\n",
    "aggression_demographics = pd.read_csv('/mnt/d/Advanced Project/aggression_worker_demographics.tsv', sep = '\\t')"
   ]
  },
  {
   "cell_type": "code",
   "execution_count": 33,
   "metadata": {},
   "outputs": [
    {
     "name": "stdout",
     "output_type": "stream",
     "text": [
      "                                                   comment  year  logged_in  \\\n",
      "rev_id                                                                        \n",
      "2232.0   This:NEWLINE_TOKEN:One can make an analogy in ...  2002       True   \n",
      "4216.0   `NEWLINE_TOKENNEWLINE_TOKEN:Clarification for ...  2002       True   \n",
      "8953.0                           Elected or Electoral? JHK  2002      False   \n",
      "26547.0  `This is such a fun entry.   DevotchkaNEWLINE_...  2002       True   \n",
      "28959.0  Please relate the ozone hole to increases in c...  2002       True   \n",
      "\n",
      "              ns  sample  split  \n",
      "rev_id                           \n",
      "2232.0   article  random  train  \n",
      "4216.0      user  random  train  \n",
      "8953.0   article  random   test  \n",
      "26547.0  article  random  train  \n",
      "28959.0  article  random   test  \n"
     ]
    }
   ],
   "source": [
    "print(toxicity_comments.head(5))"
   ]
  },
  {
   "cell_type": "code",
   "execution_count": 34,
   "metadata": {},
   "outputs": [
    {
     "name": "stdout",
     "output_type": "stream",
     "text": [
      "   rev_id  worker_id  toxicity  toxicity_score\n",
      "0  2232.0        723         0             0.0\n",
      "1  2232.0       4000         0             0.0\n",
      "2  2232.0       3989         0             1.0\n",
      "3  2232.0       3341         0             0.0\n",
      "4  2232.0       1574         0             1.0\n"
     ]
    }
   ],
   "source": [
    "print(toxicity_annotations.head(5))"
   ]
  },
  {
   "cell_type": "code",
   "execution_count": 35,
   "metadata": {},
   "outputs": [
    {
     "name": "stdout",
     "output_type": "stream",
     "text": [
      "   worker_id  gender  english_first_language age_group  education\n",
      "0         85  female                       0     18-30  bachelors\n",
      "1       1617  female                       0     45-60  bachelors\n",
      "2       1394  female                       0       NaN  bachelors\n",
      "3        311    male                       0     30-45  bachelors\n",
      "4       1980    male                       0     45-60    masters\n"
     ]
    }
   ],
   "source": [
    "print(toxicity_demographics.head())"
   ]
  },
  {
   "cell_type": "code",
   "execution_count": 36,
   "metadata": {},
   "outputs": [],
   "source": [
    "# joining datasets\n",
    "toxicity = toxicity_comments.merge(toxicity_annotations, how ='outer', on=\"rev_id\")\n",
    "toxicity = toxicity.merge(toxicity_demographics, how ='outer', on=\"worker_id\").sort_values(by=['rev_id','worker_id'])\n",
    "attacks = attack_comments.merge(attack_annotations, how ='outer', on=\"rev_id\")\n",
    "attacks = attacks.merge(attack_demographics, how ='outer', on=\"worker_id\").sort_values(by=['rev_id','worker_id'])\n",
    "aggression = aggression_comments.merge(aggression_annotations, how ='outer', on=\"rev_id\")\n",
    "aggression = aggression.merge(aggression_demographics, how ='outer', on=\"worker_id\").sort_values(by=['rev_id','worker_id'])"
   ]
  },
  {
   "cell_type": "code",
   "execution_count": 37,
   "metadata": {},
   "outputs": [
    {
     "name": "stdout",
     "output_type": "stream",
     "text": [
      "      rev_id                                            comment  year  \\\n",
      "3467  2232.0  This:NEWLINE_TOKEN:One can make an analogy in ...  2002   \n",
      "3039  2232.0  This:NEWLINE_TOKEN:One can make an analogy in ...  2002   \n",
      "0     2232.0  This:NEWLINE_TOKEN:One can make an analogy in ...  2002   \n",
      "2600  2232.0  This:NEWLINE_TOKEN:One can make an analogy in ...  2002   \n",
      "2169  2232.0  This:NEWLINE_TOKEN:One can make an analogy in ...  2002   \n",
      "\n",
      "      logged_in       ns  sample  split  worker_id  toxicity  toxicity_score  \\\n",
      "3467       True  article  random  train        405         0             1.0   \n",
      "3039       True  article  random  train        680         0             0.0   \n",
      "0          True  article  random  train        723         0             0.0   \n",
      "2600       True  article  random  train        772         0             1.0   \n",
      "2169       True  article  random  train       1508         0             1.0   \n",
      "\n",
      "      gender  english_first_language age_group  education  \n",
      "3467    male                     0.0     30-45    masters  \n",
      "3039    male                     0.0     18-30    masters  \n",
      "0     female                     0.0     30-45  bachelors  \n",
      "2600    male                     0.0     18-30  bachelors  \n",
      "2169  female                     1.0     45-60         hs  \n"
     ]
    }
   ],
   "source": [
    "print(toxicity.head(5))"
   ]
  },
  {
   "cell_type": "code",
   "execution_count": 40,
   "metadata": {},
   "outputs": [
    {
     "name": "stdout",
     "output_type": "stream",
     "text": [
      "22376046\n",
      "1598289\n",
      "0    1366234\n",
      "1     232055\n",
      "Name: toxicity, dtype: int64\n"
     ]
    }
   ],
   "source": [
    "# toxicity stats\n",
    "print(len(toxicity))\n",
    "print(toxicity.toxicity.value_counts())\n",
    "#print plotly graph of stats"
   ]
  },
  {
   "cell_type": "code",
   "execution_count": null,
   "metadata": {},
   "outputs": [],
   "source": []
  }
 ],
 "metadata": {
  "kernelspec": {
   "display_name": "Python 3",
   "language": "python",
   "name": "python3"
  },
  "language_info": {
   "codemirror_mode": {
    "name": "ipython",
    "version": 3
   },
   "file_extension": ".py",
   "mimetype": "text/x-python",
   "name": "python",
   "nbconvert_exporter": "python",
   "pygments_lexer": "ipython3",
   "version": "3.8.3"
  }
 },
 "nbformat": 4,
 "nbformat_minor": 4
}
